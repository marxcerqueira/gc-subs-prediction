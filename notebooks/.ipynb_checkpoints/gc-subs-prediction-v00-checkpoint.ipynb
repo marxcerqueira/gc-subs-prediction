{
 "cells": [
  {
   "cell_type": "markdown",
   "id": "c807941b-7847-4a63-ab0d-7d858aea6a84",
   "metadata": {},
   "source": [
    "**Gamers Club Subscription Predicion**"
   ]
  },
  {
   "cell_type": "markdown",
   "id": "aa03d4d7-f85b-49ee-a67e-f009de56237f",
   "metadata": {},
   "source": [
    "<img src=\"https://cdn.cloudflare.steamstatic.com/steam/apps/906490/header.jpg?t=1651026337\" alt=\"some text\" width=500 height=400 align=\"left\">"
   ]
  },
  {
   "cell_type": "markdown",
   "id": "78501628-8f6e-43c2-af9a-b3f2d3012bbe",
   "metadata": {},
   "source": [
    "An end-to-end Data Science project with a classification as solution"
   ]
  },
  {
   "cell_type": "markdown",
   "id": "150b3b72-fcda-43f9-bacf-25ae3058adf5",
   "metadata": {},
   "source": [
    "**Table of Contents**\n",
    "\n",
    "* [Project Solution Planning](#section-one)\n",
    "* [Business Problem](#section-two)\n",
    "* [Imports](#section-three)\n",
    "* [Loading Data](#section-four)\n",
    "* [Data Description](#section-five)\n",
    "    - [Rename Columns](#subsection-five-one)\n",
    "    - [Data Dimension](#subsection-five-two)\n",
    "    - [Data Types](#subsection-five-three)\n",
    "    - [Check NA Values](#subsection-five-four)\n",
    "    - [Fillout NAs](#subsection-five-five)\n",
    "    - [Change dtypes](#subsection-five-six)\n",
    "    - [Descriptive Statistics](#subsection-five-seven)\n",
    "* [Feature Engineering](#section-six)\n",
    "* [Variable Filtering](#section-seven)\n",
    "* [Exploratory Data Analysis (EDA)](#section-eight)\n",
    "* [Data Preparation](#section-nine)\n",
    "* [Feature Selection](#section-ten)\n",
    "* [Machine Learning Models](#section-eleven)\n",
    "* [Hyperparameter Fine tunning](#section-twelve)\n",
    "* [Error Interpretation](#section-thirteen)\n",
    "* [Model Deployment](#section-fourteen)"
   ]
  },
  {
   "cell_type": "markdown",
   "id": "51350680-c8ee-4f09-869b-59d5d2754230",
   "metadata": {
    "jp-MarkdownHeadingCollapsed": true,
    "tags": []
   },
   "source": [
    "## 1 PROJECT SOLUTION PLANNING\n",
    "<a id=\"section-one\"></a>"
   ]
  },
  {
   "cell_type": "markdown",
   "id": "cba01613-f006-42ac-9b71-eb9295da57f1",
   "metadata": {
    "ExecuteTime": {
     "end_time": "2021-04-07T12:44:04.386844Z",
     "start_time": "2021-04-07T12:44:04.384084Z"
    },
    "tags": []
   },
   "source": [
    "### Input"
   ]
  },
  {
   "cell_type": "markdown",
   "id": "fde93b2b-3e02-457b-9c27-9679ef8c17d4",
   "metadata": {},
   "source": [
    "1. Business problem\n",
    "    - The CFO wanted to reinvest in a premium servers capacities, therefore, he need to know how much revenue each player will bring so he can invest it now by knowing the amount of players that will be playing.\n",
    "    \n",
    "2. Datasets:\n",
    "\n",
    "    - **tb_lobby_stats_player.csv**\n",
    "    - **tb_medalha.csv**\n",
    "    - **tb_players_medalha.csv**\n",
    "    - **tb_players.csv**\n"
   ]
  },
  {
   "cell_type": "markdown",
   "id": "3e07f7fe-88b2-4879-9c16-3985547b1157",
   "metadata": {
    "jp-MarkdownHeadingCollapsed": true,
    "tags": []
   },
   "source": [
    "### Output\n"
   ]
  },
  {
   "cell_type": "markdown",
   "id": "e036ac21-1628-4a6f-932d-0a9ad5acdbab",
   "metadata": {},
   "source": [
    "1. Deliverables:\n",
    "\n",
    "- Model's performance and results report with the following topics:\n",
    "    - What's the probability of a player pay for subscription for the next 30 days?\n",
    "    - ~Predictions will be available through a Telegram Bot where stakeholders can acess the prediction by a smartphone~\n",
    "             \n",
    "2. Business Report with all insights"
   ]
  },
  {
   "cell_type": "markdown",
   "id": "2eb74730-010b-4b18-bffa-3e8da9222514",
   "metadata": {
    "jp-MarkdownHeadingCollapsed": true,
    "tags": []
   },
   "source": [
    "### Tasks"
   ]
  },
  {
   "cell_type": "markdown",
   "id": "af59a473-3cb5-4d82-a1ff-817621d0889b",
   "metadata": {},
   "source": [
    "**Project Development Method**\n",
    "\n",
    "The project was developed based on the CRISP-DS (Cross-Industry Standard Process - Data Science, a.k.a. CRISP-DM) project management method, with the following steps:\n",
    "\n",
    "- Project Planning\n",
    "- Business Understanding;\n",
    "- Data Collection;\n",
    "- Data Cleaning;\n",
    "- Exploratory Data Analysis (EDA);\n",
    "- Data Preparation;\n",
    "- Machine Learning Modelling and fine-tuning;\n",
    "- Model and Business performance evaluation / Results;\n",
    "- Model deployment.\n"
   ]
  },
  {
   "cell_type": "markdown",
   "id": "704060bb-d2ae-47a1-8e66-bb4b9e4298db",
   "metadata": {
    "ExecuteTime": {
     "end_time": "2022-05-25T20:26:12.404036Z",
     "start_time": "2022-05-25T20:26:12.399247Z"
    }
   },
   "source": [
    "<img src=\"https://www.researchgate.net/profile/Youssef-Tounsi-2/publication/341627969/figure/fig1/AS:903550875996160@1592434724532/CRISP-DM-data-mining-framework.png\" alt=\"some text\" width=500 height=400 align=\"left\">\n"
   ]
  },
  {
   "cell_type": "markdown",
   "id": "6365bb6c-0d47-4036-8191-a7a40f99ce42",
   "metadata": {
    "ExecuteTime": {
     "end_time": "2021-09-28T11:49:15.556175Z",
     "start_time": "2021-09-28T11:49:15.550801Z"
    },
    "tags": []
   },
   "source": [
    "## 2 BUSINESS PROBLEM\n",
    "<a id=\"section-two\"></a>"
   ]
  },
  {
   "cell_type": "markdown",
   "id": "1e6882f3-5c92-4c0f-b43a-e44716a37a3d",
   "metadata": {},
   "source": [
    "Gamers Club \n",
    "\n",
    "- OpeOperator of an E-sports platform intended to transform competitive matches of online games into a professional sport.\n",
    "\n",
    "- The company's platform provides the complete lifecycle for the eSports enthusiast, from classes/training to professional championships, the platform has everything the aspirant professional gamer needs to train, play and compete, enabling users to get gaming experience and to help them learn and improve the way they play.\n",
    "\n",
    "- Business Model: "
   ]
  },
  {
   "cell_type": "markdown",
   "id": "4bb6af50-1665-4d30-8e22-f6d5fb4d7c6c",
   "metadata": {},
   "source": [
    "The problem:\n",
    "- The CFO wanted to reinvest in a premium servers capacities, therefore, he need to know how much revenue each player will bring so he can invest it now by knowing the amount of players that will be playing."
   ]
  },
  {
   "cell_type": "markdown",
   "id": "da802e41-31cc-4701-9b4a-c15cf7222c5e",
   "metadata": {},
   "source": [
    "Goal:\n",
    "- Predict players subscription"
   ]
  },
  {
   "cell_type": "markdown",
   "id": "69681582-496a-40d0-8c60-ba8f288b016c",
   "metadata": {},
   "source": [
    "Deliverables:\n",
    "\n",
    "- Model's performance and results report with the following topics:\n",
    "    - What's the probability of a player pay for subscription for the next 30 days?\n",
    "    - ~Predictions will be available through a Telegram Bot where stakeholders can acess the prediction by a smartphone~"
   ]
  },
  {
   "cell_type": "markdown",
   "id": "632200e9-e656-43fa-941d-a7b5fbd43b86",
   "metadata": {
    "tags": []
   },
   "source": [
    "### Flipbook Business Model"
   ]
  },
  {
   "cell_type": "markdown",
   "id": "4bddbcac-79d6-4750-927b-b19a6b62dc1d",
   "metadata": {},
   "source": [
    "the idea here is to get a better business understanding so I can see where I could aggregate more value with data science"
   ]
  },
  {
   "cell_type": "markdown",
   "id": "15450ced-94af-4a9e-8a04-fb1253339dcb",
   "metadata": {},
   "source": [
    "1. **Acquisition Chanel:**\n",
    "    - Inherent virality\n",
    "    - Paid media\n",
    "    - Social Media\n",
    "    - Influencers gamers\n",
    "    \n",
    "2. **Sales Strategy:**\n",
    "    - Freemium\n",
    "\n",
    "3. **Revenue Model:**\n",
    "    - Recurring subscription\n",
    "\n",
    "4. **Product Type:**\n",
    "    - Plataform\n",
    "    - Software (anti-cheat)\n",
    "\n",
    "5. **Delivery Model:**\n",
    "    - Hosted service\n",
    "    - Digital delivery"
   ]
  },
  {
   "cell_type": "markdown",
   "id": "5d9b158c-b063-4670-a030-ed55ccf9baeb",
   "metadata": {},
   "source": []
  },
  {
   "cell_type": "markdown",
   "id": "d5c80d93-1f5e-4061-90b8-5dcc222fec44",
   "metadata": {},
   "source": [
    "## 3 IMPORTS\n",
    "<a id=\"section-three\"></a>"
   ]
  },
  {
   "cell_type": "code",
   "execution_count": 1,
   "id": "4fabdf83-1df0-4382-ae77-79a307c844a2",
   "metadata": {},
   "outputs": [],
   "source": [
    "import pandas as pd"
   ]
  },
  {
   "cell_type": "code",
   "execution_count": null,
   "id": "bcf76410-310d-4055-a716-a0b662e9e9fe",
   "metadata": {},
   "outputs": [],
   "source": []
  },
  {
   "cell_type": "markdown",
   "id": "24138d36-a0ea-45c3-98d5-4e69c3760609",
   "metadata": {},
   "source": [
    "### 3.1 Helper Functions"
   ]
  },
  {
   "cell_type": "code",
   "execution_count": null,
   "id": "793e9f61-02dc-44f4-893d-33da23948080",
   "metadata": {
    "ExecuteTime": {
     "end_time": "2022-06-27T18:47:38.628791Z",
     "start_time": "2022-06-27T18:47:38.560033Z"
    },
    "jupyter": {
     "source_hidden": true
    },
    "tags": []
   },
   "outputs": [],
   "source": [
    "def jupyter_settings():\n",
    "    %matplotlib inline\n",
    "    %pylab inline\n",
    "    \n",
    "    plt.style.use( 'bmh' )\n",
    "    plt.rcParams['figure.figsize'] = [25, 12]\n",
    "    plt.rcParams['font.size'] = 24\n",
    "    \n",
    "    display( HTML( '<style>.container { width:100% !important; }</style>') )\n",
    "    pd.options.display.max_columns = None\n",
    "    pd.options.display.max_rows = None\n",
    "    pd.set_option( 'display.expand_frame_repr', False )\n",
    "    \n",
    "    sns.set()\n",
    "    \n",
    "def cramer_v( x, y ):\n",
    "    cm = pd.crosstab( x, y ).values # Confusion Matrix\n",
    "    n = cm.sum()\n",
    "    r, k = cm.shape\n",
    "    \n",
    "    chi2 = ss.chi2_contingency( cm )[0]\n",
    "    chi2corr = max( 0, chi2 - (k-1)*(r-1)/(n-1) )\n",
    "    \n",
    "    kcorr = k - (k-1)**2/(n-1)\n",
    "    rcorr = r - (r-1)**2/(n-1)\n",
    "    \n",
    "    return np.sqrt( (chi2corr/n) / ( min( kcorr-1, rcorr-1 ) ) )\n",
    "\n",
    "def mean_absolute_percentage_error( y, yhat ):\n",
    "    y, yhat = np.array(y), np.array(yhat)\n",
    "    return np.mean( np.abs( ( y-yhat ) / y ))\n",
    "\n",
    "def mean_percentage_error( y, yhat ):\n",
    "    return np.mean( ( y - yhat ) / y )\n",
    "\n",
    "# Define the function to evaluate the models\n",
    "def weighted_mean_absolute_error(df, y, yhat):\n",
    "    weights = df.is_holiday.apply(lambda x: 5 if x else 1)\n",
    "    return np.round(np.sum(weights*abs(y-yhat))/(np.sum(weights)), 2)\n",
    "\n",
    "def ml_error( df,model_name, y, yhat):\n",
    "    mae = mean_absolute_error( y,yhat )\n",
    "    mape = mean_absolute_percentage_error( y,yhat )\n",
    "    rmse = np.sqrt(mean_squared_error( y,yhat ))\n",
    "    WMAE = weighted_mean_absolute_error(df, y, yhat)\n",
    "    \n",
    "    return pd.DataFrame( {'Model Name': model_name,\n",
    "                          'MAE': mae,\n",
    "                          'RMSE': rmse,\n",
    "                          'WMAE': WMAE}, index=[0])\n",
    "\n",
    "# time-series cross validation implementation\n",
    "def cross_validation( x_training, kfold, model_name, model, verbose=False ):\n",
    "    mae_list = []\n",
    "    mape_list = []\n",
    "    rmse_list = []\n",
    "    WMAE_list = []\n",
    "     \n",
    "    for k in reversed( range( 1, kfold+1 ) ): #k-fold implementation\n",
    "        if verbose:\n",
    "            print( '\\nKFold Number: {}'.format( k ) )\n",
    "        # start and end date for validation \n",
    "        start_date_validation = x_training['date'].max() - datetime.timedelta( weeks=k*22) #primeira semanada da venda realizada\n",
    "        end_date_validation = x_training['date'].max() - datetime.timedelta( weeks=(k-1)*22) #ultima semana\n",
    "\n",
    "        # filtering dataset\n",
    "        training = x_training[x_training['date'] < start_date_validation]\n",
    "        validation = x_training[(x_training['date'] >= start_date_validation) & (x_training['date'] <= end_date_validation)]\n",
    "\n",
    "        # training and validation dataset\n",
    "        # training\n",
    "        xtraining = training.drop( ['date', 'weekly_sales'], axis=1 ) \n",
    "        ytraining = training['weekly_sales']\n",
    "\n",
    "        # validation\n",
    "        xvalidation = validation.drop( ['date', 'weekly_sales'], axis=1 )\n",
    "        yvalidation = validation['weekly_sales']\n",
    "\n",
    "        # model\n",
    "        m = model.fit( xtraining, ytraining )\n",
    "\n",
    "        # prediction\n",
    "        yhat = m.predict(xvalidation)\n",
    "\n",
    "        # performance\n",
    "        m_result = ml_error( xvalidation, model_name, np.expm1( yvalidation ), np.expm1( yhat ) )\n",
    "\n",
    "        # store performance of each kfold iteration\n",
    "        mae_list.append(  m_result['MAE'] )\n",
    "        rmse_list.append( m_result['RMSE'] )\n",
    "        WMAE_list.append( m_result['WMAE'])\n",
    "\n",
    "    return pd.DataFrame( {'Model Name': model_name,\n",
    "                          'MAE CV':  np.round( np.mean( mae_list ), 2 ).astype( str )  + ' +/- ' + np.round( np.std( mae_list ), 2 ).astype( str ),\n",
    "                          'RMSE CV': np.round( np.mean( rmse_list ), 2 ).astype( str ) + ' +/- ' + np.round( np.std( rmse_list ), 2 ).astype( str ),\n",
    "                          'WMAE CV': np.round( np.mean( WMAE_list ), 2 ).astype( str ) + ' +/- ' + np.round( np.std( WMAE_list ), 2 ).astype( str )}, index=[0] )\n"
   ]
  },
  {
   "cell_type": "code",
   "execution_count": 4,
   "id": "6176b3fe-c689-4930-9796-eb64e9c8b67c",
   "metadata": {
    "ExecuteTime": {
     "end_time": "2022-06-27T18:47:41.988203Z",
     "start_time": "2022-06-27T18:47:41.950457Z"
    }
   },
   "outputs": [
    {
     "name": "stdout",
     "output_type": "stream",
     "text": [
      "%pylab is deprecated, use %matplotlib inline and import the required libraries.\n",
      "Populating the interactive namespace from numpy and matplotlib\n"
     ]
    },
    {
     "data": {
      "text/html": [
       "<style>.container { width:100% !important; }</style>"
      ],
      "text/plain": [
       "<IPython.core.display.HTML object>"
      ]
     },
     "metadata": {},
     "output_type": "display_data"
    }
   ],
   "source": [
    "jupyter_settings()"
   ]
  },
  {
   "cell_type": "code",
   "execution_count": 12,
   "id": "b2f05fbc-ea33-4217-b4a4-82e6aa5468f3",
   "metadata": {},
   "outputs": [],
   "source": [
    "#specify that all columns should be shown\n",
    "pd.set_option('display.max_columns', None)"
   ]
  },
  {
   "cell_type": "markdown",
   "id": "2c1047eb-4027-4696-9447-532ea46d5eea",
   "metadata": {},
   "source": [
    "## 4 LOADING DATA\n",
    "<a id=\"section-four\"></a>"
   ]
  },
  {
   "cell_type": "markdown",
   "id": "0009a48b-ee7d-4a97-8771-f41adb1428de",
   "metadata": {},
   "source": [
    "- For this project we will use data from matches that took place on Gamers Club servers. \n",
    "- They are matches referring to 2,500 players, with more than 30 statistics of their matches. Such as Kills, Assists, Kills, Flash Assist, Head Shot, etc."
   ]
  },
  {
   "cell_type": "code",
   "execution_count": 14,
   "id": "044c2d29-4700-415c-8c77-063b877c70ea",
   "metadata": {
    "ExecuteTime": {
     "end_time": "2022-05-30T10:45:00.039714Z",
     "start_time": "2022-05-30T10:44:59.844089Z"
    }
   },
   "outputs": [],
   "source": [
    "#project home path for importing files\n",
    "home_path = '/home/marxcerqueira/repos/gc-subs-prediction/'\n",
    "\n",
    "#loading datasets available for this project\n",
    "df_lobby_stats_player  = pd.read_csv(home_path + 'data/raw/tb_lobby_stats_player.csv', low_memory = False)\n",
    "df_medals              = pd.read_csv(home_path + 'data/raw/tb_medalha.csv',  low_memory = False)\n",
    "df_players_medals      = pd.read_csv(home_path + 'data/raw/tb_players_medalha.csv', low_memory = False)\n",
    "df_players             = pd.read_csv(home_path + 'data/raw/tb_players.csv', low_memory = False)"
   ]
  },
  {
   "cell_type": "code",
   "execution_count": 13,
   "id": "306eda70-4793-468a-98f5-325544350303",
   "metadata": {
    "ExecuteTime": {
     "end_time": "2022-05-29T14:02:05.474817Z",
     "start_time": "2022-05-29T14:02:05.447787Z"
    },
    "code_folding": [
     0
    ],
    "jupyter": {
     "source_hidden": true
    },
    "tags": []
   },
   "outputs": [
    {
     "data": {
      "text/html": [
       "<div>\n",
       "<style scoped>\n",
       "    .dataframe tbody tr th:only-of-type {\n",
       "        vertical-align: middle;\n",
       "    }\n",
       "\n",
       "    .dataframe tbody tr th {\n",
       "        vertical-align: top;\n",
       "    }\n",
       "\n",
       "    .dataframe thead th {\n",
       "        text-align: right;\n",
       "    }\n",
       "</style>\n",
       "<table border=\"1\" class=\"dataframe\">\n",
       "  <thead>\n",
       "    <tr style=\"text-align: right;\">\n",
       "      <th></th>\n",
       "      <th>idLobbyGame</th>\n",
       "      <th>idPlayer</th>\n",
       "      <th>idRoom</th>\n",
       "      <th>qtKill</th>\n",
       "      <th>qtAssist</th>\n",
       "      <th>qtDeath</th>\n",
       "      <th>qtHs</th>\n",
       "      <th>qtBombeDefuse</th>\n",
       "      <th>qtBombePlant</th>\n",
       "      <th>qtTk</th>\n",
       "      <th>qtTkAssist</th>\n",
       "      <th>qt1Kill</th>\n",
       "      <th>qt2Kill</th>\n",
       "      <th>qt3Kill</th>\n",
       "      <th>qt4Kill</th>\n",
       "      <th>qt5Kill</th>\n",
       "      <th>qtPlusKill</th>\n",
       "      <th>qtFirstKill</th>\n",
       "      <th>vlDamage</th>\n",
       "      <th>qtHits</th>\n",
       "      <th>qtShots</th>\n",
       "      <th>qtLastAlive</th>\n",
       "      <th>qtClutchWon</th>\n",
       "      <th>qtRoundsPlayed</th>\n",
       "      <th>descMapName</th>\n",
       "      <th>vlLevel</th>\n",
       "      <th>qtSurvived</th>\n",
       "      <th>qtTrade</th>\n",
       "      <th>qtFlashAssist</th>\n",
       "      <th>qtHitHeadshot</th>\n",
       "      <th>qtHitChest</th>\n",
       "      <th>qtHitStomach</th>\n",
       "      <th>qtHitLeftAtm</th>\n",
       "      <th>qtHitRightArm</th>\n",
       "      <th>qtHitLeftLeg</th>\n",
       "      <th>qtHitRightLeg</th>\n",
       "      <th>flWinner</th>\n",
       "      <th>dtCreatedAt</th>\n",
       "    </tr>\n",
       "  </thead>\n",
       "  <tbody>\n",
       "    <tr>\n",
       "      <th>0</th>\n",
       "      <td>1</td>\n",
       "      <td>1</td>\n",
       "      <td>1</td>\n",
       "      <td>5</td>\n",
       "      <td>1</td>\n",
       "      <td>16</td>\n",
       "      <td>2</td>\n",
       "      <td>0</td>\n",
       "      <td>0</td>\n",
       "      <td>0.0</td>\n",
       "      <td>0.0</td>\n",
       "      <td>3</td>\n",
       "      <td>1</td>\n",
       "      <td>0</td>\n",
       "      <td>0</td>\n",
       "      <td>0</td>\n",
       "      <td>0</td>\n",
       "      <td>1</td>\n",
       "      <td>911</td>\n",
       "      <td>25.0</td>\n",
       "      <td>212</td>\n",
       "      <td>0.0</td>\n",
       "      <td>0</td>\n",
       "      <td>17</td>\n",
       "      <td>de_mirage</td>\n",
       "      <td>10</td>\n",
       "      <td>1.0</td>\n",
       "      <td>2.0</td>\n",
       "      <td>0.0</td>\n",
       "      <td>3.0</td>\n",
       "      <td>13.0</td>\n",
       "      <td>4.0</td>\n",
       "      <td>2.0</td>\n",
       "      <td>2.0</td>\n",
       "      <td>1.0</td>\n",
       "      <td>0.0</td>\n",
       "      <td>0</td>\n",
       "      <td>2022-01-21 19:45:44</td>\n",
       "    </tr>\n",
       "    <tr>\n",
       "      <th>1</th>\n",
       "      <td>2</td>\n",
       "      <td>1</td>\n",
       "      <td>2</td>\n",
       "      <td>24</td>\n",
       "      <td>3</td>\n",
       "      <td>18</td>\n",
       "      <td>6</td>\n",
       "      <td>0</td>\n",
       "      <td>4</td>\n",
       "      <td>0.0</td>\n",
       "      <td>1.0</td>\n",
       "      <td>9</td>\n",
       "      <td>4</td>\n",
       "      <td>1</td>\n",
       "      <td>1</td>\n",
       "      <td>0</td>\n",
       "      <td>0</td>\n",
       "      <td>3</td>\n",
       "      <td>2933</td>\n",
       "      <td>54.0</td>\n",
       "      <td>597</td>\n",
       "      <td>1.0</td>\n",
       "      <td>1</td>\n",
       "      <td>27</td>\n",
       "      <td>de_nuke</td>\n",
       "      <td>9</td>\n",
       "      <td>8.0</td>\n",
       "      <td>1.0</td>\n",
       "      <td>0.0</td>\n",
       "      <td>7.0</td>\n",
       "      <td>26.0</td>\n",
       "      <td>14.0</td>\n",
       "      <td>2.0</td>\n",
       "      <td>1.0</td>\n",
       "      <td>1.0</td>\n",
       "      <td>3.0</td>\n",
       "      <td>1</td>\n",
       "      <td>2022-02-04 02:09:47</td>\n",
       "    </tr>\n",
       "    <tr>\n",
       "      <th>2</th>\n",
       "      <td>3</td>\n",
       "      <td>2</td>\n",
       "      <td>3</td>\n",
       "      <td>6</td>\n",
       "      <td>4</td>\n",
       "      <td>23</td>\n",
       "      <td>2</td>\n",
       "      <td>0</td>\n",
       "      <td>1</td>\n",
       "      <td>0.0</td>\n",
       "      <td>1.0</td>\n",
       "      <td>4</td>\n",
       "      <td>1</td>\n",
       "      <td>0</td>\n",
       "      <td>0</td>\n",
       "      <td>0</td>\n",
       "      <td>0</td>\n",
       "      <td>2</td>\n",
       "      <td>1117</td>\n",
       "      <td>31.0</td>\n",
       "      <td>207</td>\n",
       "      <td>0.0</td>\n",
       "      <td>0</td>\n",
       "      <td>25</td>\n",
       "      <td>de_mirage</td>\n",
       "      <td>2</td>\n",
       "      <td>2.0</td>\n",
       "      <td>3.0</td>\n",
       "      <td>0.0</td>\n",
       "      <td>3.0</td>\n",
       "      <td>15.0</td>\n",
       "      <td>8.0</td>\n",
       "      <td>1.0</td>\n",
       "      <td>2.0</td>\n",
       "      <td>0.0</td>\n",
       "      <td>2.0</td>\n",
       "      <td>0</td>\n",
       "      <td>2021-09-18 18:07:43</td>\n",
       "    </tr>\n",
       "    <tr>\n",
       "      <th>3</th>\n",
       "      <td>3</td>\n",
       "      <td>391</td>\n",
       "      <td>27508</td>\n",
       "      <td>10</td>\n",
       "      <td>5</td>\n",
       "      <td>20</td>\n",
       "      <td>4</td>\n",
       "      <td>1</td>\n",
       "      <td>0</td>\n",
       "      <td>0.0</td>\n",
       "      <td>0.0</td>\n",
       "      <td>6</td>\n",
       "      <td>2</td>\n",
       "      <td>0</td>\n",
       "      <td>0</td>\n",
       "      <td>0</td>\n",
       "      <td>0</td>\n",
       "      <td>1</td>\n",
       "      <td>1740</td>\n",
       "      <td>63.0</td>\n",
       "      <td>411</td>\n",
       "      <td>1.0</td>\n",
       "      <td>1</td>\n",
       "      <td>25</td>\n",
       "      <td>de_mirage</td>\n",
       "      <td>15</td>\n",
       "      <td>3.0</td>\n",
       "      <td>4.0</td>\n",
       "      <td>0.0</td>\n",
       "      <td>6.0</td>\n",
       "      <td>27.0</td>\n",
       "      <td>10.0</td>\n",
       "      <td>1.0</td>\n",
       "      <td>7.0</td>\n",
       "      <td>6.0</td>\n",
       "      <td>6.0</td>\n",
       "      <td>1</td>\n",
       "      <td>2021-09-18 18:07:43</td>\n",
       "    </tr>\n",
       "    <tr>\n",
       "      <th>4</th>\n",
       "      <td>4</td>\n",
       "      <td>2</td>\n",
       "      <td>4</td>\n",
       "      <td>8</td>\n",
       "      <td>4</td>\n",
       "      <td>26</td>\n",
       "      <td>6</td>\n",
       "      <td>0</td>\n",
       "      <td>2</td>\n",
       "      <td>0.0</td>\n",
       "      <td>0.0</td>\n",
       "      <td>4</td>\n",
       "      <td>2</td>\n",
       "      <td>0</td>\n",
       "      <td>0</td>\n",
       "      <td>0</td>\n",
       "      <td>0</td>\n",
       "      <td>1</td>\n",
       "      <td>1696</td>\n",
       "      <td>51.0</td>\n",
       "      <td>324</td>\n",
       "      <td>0.0</td>\n",
       "      <td>0</td>\n",
       "      <td>30</td>\n",
       "      <td>de_nuke</td>\n",
       "      <td>2</td>\n",
       "      <td>4.0</td>\n",
       "      <td>4.0</td>\n",
       "      <td>2.0</td>\n",
       "      <td>8.0</td>\n",
       "      <td>19.0</td>\n",
       "      <td>12.0</td>\n",
       "      <td>2.0</td>\n",
       "      <td>3.0</td>\n",
       "      <td>2.0</td>\n",
       "      <td>5.0</td>\n",
       "      <td>0</td>\n",
       "      <td>2021-09-27 00:17:45</td>\n",
       "    </tr>\n",
       "  </tbody>\n",
       "</table>\n",
       "</div>"
      ],
      "text/plain": [
       "   idLobbyGame  idPlayer  idRoom  qtKill  qtAssist  qtDeath  qtHs  \\\n",
       "0            1         1       1       5         1       16     2   \n",
       "1            2         1       2      24         3       18     6   \n",
       "2            3         2       3       6         4       23     2   \n",
       "3            3       391   27508      10         5       20     4   \n",
       "4            4         2       4       8         4       26     6   \n",
       "\n",
       "   qtBombeDefuse  qtBombePlant  qtTk  qtTkAssist  qt1Kill  qt2Kill  qt3Kill  \\\n",
       "0              0             0   0.0         0.0        3        1        0   \n",
       "1              0             4   0.0         1.0        9        4        1   \n",
       "2              0             1   0.0         1.0        4        1        0   \n",
       "3              1             0   0.0         0.0        6        2        0   \n",
       "4              0             2   0.0         0.0        4        2        0   \n",
       "\n",
       "   qt4Kill  qt5Kill  qtPlusKill  qtFirstKill  vlDamage  qtHits  qtShots  \\\n",
       "0        0        0           0            1       911    25.0      212   \n",
       "1        1        0           0            3      2933    54.0      597   \n",
       "2        0        0           0            2      1117    31.0      207   \n",
       "3        0        0           0            1      1740    63.0      411   \n",
       "4        0        0           0            1      1696    51.0      324   \n",
       "\n",
       "   qtLastAlive  qtClutchWon  qtRoundsPlayed descMapName  vlLevel  qtSurvived  \\\n",
       "0          0.0            0              17   de_mirage       10         1.0   \n",
       "1          1.0            1              27     de_nuke        9         8.0   \n",
       "2          0.0            0              25   de_mirage        2         2.0   \n",
       "3          1.0            1              25   de_mirage       15         3.0   \n",
       "4          0.0            0              30     de_nuke        2         4.0   \n",
       "\n",
       "   qtTrade  qtFlashAssist  qtHitHeadshot  qtHitChest  qtHitStomach  \\\n",
       "0      2.0            0.0            3.0        13.0           4.0   \n",
       "1      1.0            0.0            7.0        26.0          14.0   \n",
       "2      3.0            0.0            3.0        15.0           8.0   \n",
       "3      4.0            0.0            6.0        27.0          10.0   \n",
       "4      4.0            2.0            8.0        19.0          12.0   \n",
       "\n",
       "   qtHitLeftAtm  qtHitRightArm  qtHitLeftLeg  qtHitRightLeg  flWinner  \\\n",
       "0           2.0            2.0           1.0            0.0         0   \n",
       "1           2.0            1.0           1.0            3.0         1   \n",
       "2           1.0            2.0           0.0            2.0         0   \n",
       "3           1.0            7.0           6.0            6.0         1   \n",
       "4           2.0            3.0           2.0            5.0         0   \n",
       "\n",
       "           dtCreatedAt  \n",
       "0  2022-01-21 19:45:44  \n",
       "1  2022-02-04 02:09:47  \n",
       "2  2021-09-18 18:07:43  \n",
       "3  2021-09-18 18:07:43  \n",
       "4  2021-09-27 00:17:45  "
      ]
     },
     "execution_count": 13,
     "metadata": {},
     "output_type": "execute_result"
    }
   ],
   "source": [
    "#first look at the dataframes\n",
    "df_lobby_stats_player.head()"
   ]
  },
  {
   "cell_type": "code",
   "execution_count": 15,
   "id": "64e7b596-b9cb-423d-9f12-ae922120e19a",
   "metadata": {
    "ExecuteTime": {
     "end_time": "2022-05-29T14:02:09.571246Z",
     "start_time": "2022-05-29T14:02:09.561390Z"
    },
    "code_folding": [
     0
    ],
    "jupyter": {
     "source_hidden": true
    },
    "tags": []
   },
   "outputs": [
    {
     "data": {
      "text/html": [
       "<div>\n",
       "<style scoped>\n",
       "    .dataframe tbody tr th:only-of-type {\n",
       "        vertical-align: middle;\n",
       "    }\n",
       "\n",
       "    .dataframe tbody tr th {\n",
       "        vertical-align: top;\n",
       "    }\n",
       "\n",
       "    .dataframe thead th {\n",
       "        text-align: right;\n",
       "    }\n",
       "</style>\n",
       "<table border=\"1\" class=\"dataframe\">\n",
       "  <thead>\n",
       "    <tr style=\"text-align: right;\">\n",
       "      <th></th>\n",
       "      <th>idMedal</th>\n",
       "      <th>descMedal</th>\n",
       "      <th>descTypeMedal</th>\n",
       "    </tr>\n",
       "  </thead>\n",
       "  <tbody>\n",
       "    <tr>\n",
       "      <th>0</th>\n",
       "      <td>1</td>\n",
       "      <td>Membro Premium</td>\n",
       "      <td>MEDAL</td>\n",
       "    </tr>\n",
       "    <tr>\n",
       "      <th>1</th>\n",
       "      <td>2</td>\n",
       "      <td>Elite</td>\n",
       "      <td>MEDAL</td>\n",
       "    </tr>\n",
       "    <tr>\n",
       "      <th>2</th>\n",
       "      <td>3</td>\n",
       "      <td>Membro Plus</td>\n",
       "      <td>MEDAL</td>\n",
       "    </tr>\n",
       "    <tr>\n",
       "      <th>3</th>\n",
       "      <td>4</td>\n",
       "      <td>Bom Comportamento</td>\n",
       "      <td>MEDAL</td>\n",
       "    </tr>\n",
       "    <tr>\n",
       "      <th>4</th>\n",
       "      <td>5</td>\n",
       "      <td>Já conquistou 25 Vitórias</td>\n",
       "      <td>MEDAL</td>\n",
       "    </tr>\n",
       "  </tbody>\n",
       "</table>\n",
       "</div>"
      ],
      "text/plain": [
       "   idMedal                  descMedal descTypeMedal\n",
       "0        1             Membro Premium         MEDAL\n",
       "1        2                      Elite         MEDAL\n",
       "2        3                Membro Plus         MEDAL\n",
       "3        4          Bom Comportamento         MEDAL\n",
       "4        5  Já conquistou 25 Vitórias         MEDAL"
      ]
     },
     "execution_count": 15,
     "metadata": {},
     "output_type": "execute_result"
    }
   ],
   "source": [
    "#first look at the dataframes\n",
    "df_medals.head()"
   ]
  },
  {
   "cell_type": "code",
   "execution_count": 8,
   "id": "db2858b9-39dc-4a0a-8445-4d48b2344dbd",
   "metadata": {
    "ExecuteTime": {
     "end_time": "2022-05-29T14:02:11.275841Z",
     "start_time": "2022-05-29T14:02:11.270338Z"
    },
    "code_folding": [
     0
    ],
    "tags": []
   },
   "outputs": [
    {
     "data": {
      "text/html": [
       "<div>\n",
       "<style scoped>\n",
       "    .dataframe tbody tr th:only-of-type {\n",
       "        vertical-align: middle;\n",
       "    }\n",
       "\n",
       "    .dataframe tbody tr th {\n",
       "        vertical-align: top;\n",
       "    }\n",
       "\n",
       "    .dataframe thead th {\n",
       "        text-align: right;\n",
       "    }\n",
       "</style>\n",
       "<table border=\"1\" class=\"dataframe\">\n",
       "  <thead>\n",
       "    <tr style=\"text-align: right;\">\n",
       "      <th></th>\n",
       "      <th>id</th>\n",
       "      <th>idPlayer</th>\n",
       "      <th>idMedal</th>\n",
       "      <th>dtCreatedAt</th>\n",
       "      <th>dtExpiration</th>\n",
       "      <th>dtRemove</th>\n",
       "      <th>flActive</th>\n",
       "    </tr>\n",
       "  </thead>\n",
       "  <tbody>\n",
       "    <tr>\n",
       "      <th>0</th>\n",
       "      <td>1</td>\n",
       "      <td>1982</td>\n",
       "      <td>1</td>\n",
       "      <td>2018-10-04</td>\n",
       "      <td>2016-07-23</td>\n",
       "      <td>2016-07-24</td>\n",
       "      <td>0</td>\n",
       "    </tr>\n",
       "    <tr>\n",
       "      <th>1</th>\n",
       "      <td>2</td>\n",
       "      <td>1982</td>\n",
       "      <td>1</td>\n",
       "      <td>2018-12-12</td>\n",
       "      <td>2017-01-11</td>\n",
       "      <td>2017-01-12</td>\n",
       "      <td>0</td>\n",
       "    </tr>\n",
       "    <tr>\n",
       "      <th>2</th>\n",
       "      <td>3</td>\n",
       "      <td>1982</td>\n",
       "      <td>1</td>\n",
       "      <td>2019-01-08</td>\n",
       "      <td>2017-03-16</td>\n",
       "      <td>2017-03-17</td>\n",
       "      <td>0</td>\n",
       "    </tr>\n",
       "    <tr>\n",
       "      <th>3</th>\n",
       "      <td>4</td>\n",
       "      <td>1982</td>\n",
       "      <td>1</td>\n",
       "      <td>2018-12-09</td>\n",
       "      <td>2017-09-10</td>\n",
       "      <td>2017-09-11</td>\n",
       "      <td>0</td>\n",
       "    </tr>\n",
       "    <tr>\n",
       "      <th>4</th>\n",
       "      <td>5</td>\n",
       "      <td>1982</td>\n",
       "      <td>1</td>\n",
       "      <td>2018-10-04</td>\n",
       "      <td>2018-03-19</td>\n",
       "      <td>2018-03-20</td>\n",
       "      <td>0</td>\n",
       "    </tr>\n",
       "  </tbody>\n",
       "</table>\n",
       "</div>"
      ],
      "text/plain": [
       "   id  idPlayer  idMedal dtCreatedAt dtExpiration    dtRemove  flActive\n",
       "0   1      1982        1  2018-10-04   2016-07-23  2016-07-24         0\n",
       "1   2      1982        1  2018-12-12   2017-01-11  2017-01-12         0\n",
       "2   3      1982        1  2019-01-08   2017-03-16  2017-03-17         0\n",
       "3   4      1982        1  2018-12-09   2017-09-10  2017-09-11         0\n",
       "4   5      1982        1  2018-10-04   2018-03-19  2018-03-20         0"
      ]
     },
     "execution_count": 8,
     "metadata": {},
     "output_type": "execute_result"
    }
   ],
   "source": [
    "#first look at the dataframes\n",
    "df_players_medalha.head()"
   ]
  },
  {
   "cell_type": "code",
   "execution_count": 9,
   "id": "2de96a97-31a5-450a-8c79-6cc245e23a73",
   "metadata": {
    "jupyter": {
     "source_hidden": true
    },
    "tags": []
   },
   "outputs": [
    {
     "data": {
      "text/html": [
       "<div>\n",
       "<style scoped>\n",
       "    .dataframe tbody tr th:only-of-type {\n",
       "        vertical-align: middle;\n",
       "    }\n",
       "\n",
       "    .dataframe tbody tr th {\n",
       "        vertical-align: top;\n",
       "    }\n",
       "\n",
       "    .dataframe thead th {\n",
       "        text-align: right;\n",
       "    }\n",
       "</style>\n",
       "<table border=\"1\" class=\"dataframe\">\n",
       "  <thead>\n",
       "    <tr style=\"text-align: right;\">\n",
       "      <th></th>\n",
       "      <th>idPlayer</th>\n",
       "      <th>flFacebook</th>\n",
       "      <th>flTwitter</th>\n",
       "      <th>flTwitch</th>\n",
       "      <th>descCountry</th>\n",
       "      <th>dtBirth</th>\n",
       "      <th>dtRegistration</th>\n",
       "    </tr>\n",
       "  </thead>\n",
       "  <tbody>\n",
       "    <tr>\n",
       "      <th>0</th>\n",
       "      <td>1</td>\n",
       "      <td>0</td>\n",
       "      <td>0</td>\n",
       "      <td>0</td>\n",
       "      <td>cl</td>\n",
       "      <td>NaN</td>\n",
       "      <td>2021-03-19 21:31:39</td>\n",
       "    </tr>\n",
       "    <tr>\n",
       "      <th>1</th>\n",
       "      <td>2</td>\n",
       "      <td>0</td>\n",
       "      <td>0</td>\n",
       "      <td>0</td>\n",
       "      <td>br</td>\n",
       "      <td>NaN</td>\n",
       "      <td>2020-05-06 19:28:29</td>\n",
       "    </tr>\n",
       "    <tr>\n",
       "      <th>2</th>\n",
       "      <td>3</td>\n",
       "      <td>0</td>\n",
       "      <td>0</td>\n",
       "      <td>0</td>\n",
       "      <td>br</td>\n",
       "      <td>NaN</td>\n",
       "      <td>2020-01-28 13:00:38</td>\n",
       "    </tr>\n",
       "    <tr>\n",
       "      <th>3</th>\n",
       "      <td>4</td>\n",
       "      <td>0</td>\n",
       "      <td>0</td>\n",
       "      <td>0</td>\n",
       "      <td>br</td>\n",
       "      <td>NaN</td>\n",
       "      <td>2017-05-31 16:13:51</td>\n",
       "    </tr>\n",
       "    <tr>\n",
       "      <th>4</th>\n",
       "      <td>5</td>\n",
       "      <td>0</td>\n",
       "      <td>0</td>\n",
       "      <td>0</td>\n",
       "      <td>ar</td>\n",
       "      <td>NaN</td>\n",
       "      <td>2021-02-08 11:57:21</td>\n",
       "    </tr>\n",
       "  </tbody>\n",
       "</table>\n",
       "</div>"
      ],
      "text/plain": [
       "   idPlayer  flFacebook  flTwitter  flTwitch descCountry dtBirth  \\\n",
       "0         1           0          0         0          cl     NaN   \n",
       "1         2           0          0         0          br     NaN   \n",
       "2         3           0          0         0          br     NaN   \n",
       "3         4           0          0         0          br     NaN   \n",
       "4         5           0          0         0          ar     NaN   \n",
       "\n",
       "        dtRegistration  \n",
       "0  2021-03-19 21:31:39  \n",
       "1  2020-05-06 19:28:29  \n",
       "2  2020-01-28 13:00:38  \n",
       "3  2017-05-31 16:13:51  \n",
       "4  2021-02-08 11:57:21  "
      ]
     },
     "execution_count": 9,
     "metadata": {},
     "output_type": "execute_result"
    }
   ],
   "source": [
    "#first look at the dataframes\n",
    "df_players.head()"
   ]
  },
  {
   "cell_type": "markdown",
   "id": "2ba617a4-a33d-49c1-b4df-e3a5eee0441f",
   "metadata": {},
   "source": [
    "### 4.1 Merge datasets"
   ]
  },
  {
   "cell_type": "markdown",
   "id": "2dc8a0f0-ea44-4e13-8240-ed98bc774b1f",
   "metadata": {},
   "source": [
    "The datasets keys here can be 'idPlayer', 'idMedal'"
   ]
  },
  {
   "cell_type": "markdown",
   "id": "1f5f9963-ad98-4581-8c66-c9f353de6139",
   "metadata": {
    "ExecuteTime": {
     "end_time": "2022-05-30T09:00:19.099738Z",
     "start_time": "2022-05-30T09:00:18.898429Z"
    }
   },
   "source": [
    "I created a book_players using SQL\n",
    "\n",
    "You can see the code in the path: /book_player/query.sql"
   ]
  },
  {
   "cell_type": "markdown",
   "id": "a22ee267-ce44-4d91-9437-ae0ef6e036e6",
   "metadata": {},
   "source": [
    "## 5 DATA DESCRIPTION\n",
    "<a id=\"section-five\"></a>"
   ]
  },
  {
   "cell_type": "code",
   "execution_count": 7,
   "id": "42c54a7b-0916-449c-a5be-4eb751ac2a03",
   "metadata": {
    "ExecuteTime": {
     "end_time": "2022-05-30T09:01:35.471244Z",
     "start_time": "2022-05-30T09:01:35.423156Z"
    }
   },
   "outputs": [],
   "source": [
    "# #Copy dataset\n",
    "# df1 = df0.copy()"
   ]
  },
  {
   "cell_type": "markdown",
   "id": "32e72edd-9d21-4d73-8737-c9ec4e3d7cbf",
   "metadata": {},
   "source": [
    "### 5.1 Rename Columns\n",
    "<a id=\"subsection-five-one\"></a>"
   ]
  },
  {
   "cell_type": "code",
   "execution_count": 8,
   "id": "0b01ed67-a935-449c-a22d-c1db08d02252",
   "metadata": {
    "ExecuteTime": {
     "end_time": "2022-05-30T09:01:36.794218Z",
     "start_time": "2022-05-30T09:01:36.786740Z"
    }
   },
   "outputs": [],
   "source": [
    "# cols_old = df1.columns\n",
    "\n",
    "# snakecase = lambda x: inflection.underscore(x)\n",
    "\n",
    "# cols_new = list( map( snakecase, cols_old ) )\n",
    "\n",
    "# #Rename Columns\n",
    "\n",
    "# df1.columns = cols_new"
   ]
  },
  {
   "cell_type": "code",
   "execution_count": 37,
   "id": "680fa4b7-83f5-4955-bcf6-4dfaed1120fb",
   "metadata": {
    "ExecuteTime": {
     "end_time": "2022-05-29T14:05:03.367651Z",
     "start_time": "2022-05-29T14:05:03.363566Z"
    },
    "scrolled": true
   },
   "outputs": [],
   "source": [
    "# checking cols transformation\n",
    "# df1.columns"
   ]
  },
  {
   "cell_type": "markdown",
   "id": "772d703c-147b-4b31-891a-d7b0023c87b1",
   "metadata": {},
   "source": [
    "### 5.2 Data Dimension\n",
    "<a id=\"subsection-five-two\"></a>"
   ]
  },
  {
   "cell_type": "code",
   "execution_count": 45,
   "id": "e7c2612d-44e9-4a1c-8c2a-cdb4cdc446c9",
   "metadata": {},
   "outputs": [
    {
     "data": {
      "text/plain": [
       "(184152, 38)"
      ]
     },
     "execution_count": 45,
     "metadata": {},
     "output_type": "execute_result"
    }
   ],
   "source": [
    "df_lobby_stats_player.shape"
   ]
  },
  {
   "cell_type": "code",
   "execution_count": null,
   "id": "cfe93bd1-8989-45a6-a01a-ce517259dbe6",
   "metadata": {},
   "outputs": [],
   "source": [
    "for t in tbl_names:\n",
    "    print )"
   ]
  },
  {
   "cell_type": "code",
   "execution_count": 56,
   "id": "7309df29-1f8b-4cb3-a0ae-7fd5f5b54214",
   "metadata": {},
   "outputs": [
    {
     "name": "stdout",
     "output_type": "stream",
     "text": [
      "\n",
      "Number of Rows: 184152            \n",
      "Number of Columns: 38\n",
      "\n",
      "Number of Rows: 47            \n",
      "Number of Columns: 3\n",
      "\n",
      "Number of Rows: 32700            \n",
      "Number of Columns: 7\n",
      "\n",
      "Number of Rows: 2716            \n",
      "Number of Columns: 7\n"
     ]
    }
   ],
   "source": [
    "tbl = [df_lobby_stats_player, df_medals, df_players_medals, df_players]\n",
    "# tbl_names = ['df_lobby_stats_player', 'df_medals', 'df_players_medals', 'df_players']\n",
    "\n",
    "for t in tbl:\n",
    "    print(f'\\nNumber of Rows: {t.shape[0]}\\\n",
    "            \\nNumber of Columns: {t.shape[1]}')"
   ]
  },
  {
   "cell_type": "markdown",
   "id": "60cebe21-5686-411c-8ab9-9836646d4060",
   "metadata": {},
   "source": [
    "### 5.3 Data Types\n",
    "<a id=\"subsection-five-three\"></a>"
   ]
  },
  {
   "cell_type": "code",
   "execution_count": 61,
   "id": "ccb7bd04-76ea-4eb0-abe6-7433e96da66a",
   "metadata": {
    "ExecuteTime": {
     "end_time": "2022-05-29T14:04:15.177804Z",
     "start_time": "2022-05-29T14:04:15.172249Z"
    }
   },
   "outputs": [
    {
     "name": "stdout",
     "output_type": "stream",
     "text": [
      "\n",
      "idLobbyGame         int64\n",
      "idPlayer            int64\n",
      "idRoom              int64\n",
      "qtKill              int64\n",
      "qtAssist            int64\n",
      "qtDeath             int64\n",
      "qtHs                int64\n",
      "qtBombeDefuse       int64\n",
      "qtBombePlant        int64\n",
      "qtTk              float64\n",
      "qtTkAssist        float64\n",
      "qt1Kill             int64\n",
      "qt2Kill             int64\n",
      "qt3Kill             int64\n",
      "qt4Kill             int64\n",
      "qt5Kill             int64\n",
      "qtPlusKill          int64\n",
      "qtFirstKill         int64\n",
      "vlDamage            int64\n",
      "qtHits            float64\n",
      "qtShots             int64\n",
      "qtLastAlive       float64\n",
      "qtClutchWon         int64\n",
      "qtRoundsPlayed      int64\n",
      "descMapName        object\n",
      "vlLevel             int64\n",
      "qtSurvived        float64\n",
      "qtTrade           float64\n",
      "qtFlashAssist     float64\n",
      "qtHitHeadshot     float64\n",
      "qtHitChest        float64\n",
      "qtHitStomach      float64\n",
      "qtHitLeftAtm      float64\n",
      "qtHitRightArm     float64\n",
      "qtHitLeftLeg      float64\n",
      "qtHitRightLeg     float64\n",
      "flWinner            int64\n",
      "dtCreatedAt        object\n",
      "dtype: object\n",
      "\n",
      "idMedal           int64\n",
      "descMedal        object\n",
      "descTypeMedal    object\n",
      "dtype: object\n",
      "\n",
      "id               int64\n",
      "idPlayer         int64\n",
      "idMedal          int64\n",
      "dtCreatedAt     object\n",
      "dtExpiration    object\n",
      "dtRemove        object\n",
      "flActive         int64\n",
      "dtype: object\n",
      "\n",
      "idPlayer           int64\n",
      "flFacebook         int64\n",
      "flTwitter          int64\n",
      "flTwitch           int64\n",
      "descCountry       object\n",
      "dtBirth           object\n",
      "dtRegistration    object\n",
      "dtype: object\n"
     ]
    }
   ],
   "source": [
    "# checking features dtypes\n",
    "for t in tbl:\n",
    "    print(f'\\n{t.dtypes}')"
   ]
  },
  {
   "cell_type": "code",
   "execution_count": null,
   "id": "b04e364d-54ae-4184-a91d-9919312197aa",
   "metadata": {},
   "outputs": [],
   "source": []
  },
  {
   "cell_type": "markdown",
   "id": "ed147f09-844b-4963-b1ed-e04d964477f1",
   "metadata": {},
   "source": [
    "### 5.4 Check NA values\n",
    "<a id=\"subsection-five-four\"></a>"
   ]
  },
  {
   "cell_type": "code",
   "execution_count": 67,
   "id": "f225673d-1691-43d8-acbd-3ae098646781",
   "metadata": {
    "ExecuteTime": {
     "end_time": "2022-05-29T14:04:17.567843Z",
     "start_time": "2022-05-29T14:04:17.323022Z"
    }
   },
   "outputs": [],
   "source": [
    "# checking NA values sum and its percentagem from total number of rows\n",
    "missing_dfs = []\n",
    "for t in tbl:\n",
    "    missing_count = t.isnull().sum() # the count of missing values\n",
    "    value_count = t.isnull().count() # the count of all values\n",
    "    \n",
    "    missing_percentage = round(missing_count/value_count *100, 2) # the percentage of missing values\n",
    "    missing_df = pd.DataFrame({'missing values count': missing_count, 'percentage': missing_percentage})\n",
    "    \n",
    "    missing_dfs.append(missing_df)"
   ]
  },
  {
   "cell_type": "code",
   "execution_count": 79,
   "id": "e7f4b512-8090-4e10-b1cd-e374a9bb18a4",
   "metadata": {},
   "outputs": [
    {
     "data": {
      "text/plain": [
       "[                missing values count  percentage\n",
       " idLobbyGame                        0        0.00\n",
       " idPlayer                           0        0.00\n",
       " idRoom                             0        0.00\n",
       " qtKill                             0        0.00\n",
       " qtAssist                           0        0.00\n",
       " qtDeath                            0        0.00\n",
       " qtHs                               0        0.00\n",
       " qtBombeDefuse                      0        0.00\n",
       " qtBombePlant                       0        0.00\n",
       " qtTk                             120        0.07\n",
       " qtTkAssist                       120        0.07\n",
       " qt1Kill                            0        0.00\n",
       " qt2Kill                            0        0.00\n",
       " qt3Kill                            0        0.00\n",
       " qt4Kill                            0        0.00\n",
       " qt5Kill                            0        0.00\n",
       " qtPlusKill                         0        0.00\n",
       " qtFirstKill                        0        0.00\n",
       " vlDamage                           0        0.00\n",
       " qtHits                           120        0.07\n",
       " qtShots                            0        0.00\n",
       " qtLastAlive                      120        0.07\n",
       " qtClutchWon                        0        0.00\n",
       " qtRoundsPlayed                     0        0.00\n",
       " descMapName                        0        0.00\n",
       " vlLevel                            0        0.00\n",
       " qtSurvived                       705        0.38\n",
       " qtTrade                          705        0.38\n",
       " qtFlashAssist                    705        0.38\n",
       " qtHitHeadshot                    705        0.38\n",
       " qtHitChest                       705        0.38\n",
       " qtHitStomach                     705        0.38\n",
       " qtHitLeftAtm                     705        0.38\n",
       " qtHitRightArm                    705        0.38\n",
       " qtHitLeftLeg                     705        0.38\n",
       " qtHitRightLeg                    705        0.38\n",
       " flWinner                           0        0.00\n",
       " dtCreatedAt                        0        0.00,\n",
       "                missing values count  percentage\n",
       " idMedal                           0         0.0\n",
       " descMedal                         0         0.0\n",
       " descTypeMedal                     0         0.0,\n",
       "               missing values count  percentage\n",
       " id                               0        0.00\n",
       " idPlayer                         0        0.00\n",
       " idMedal                          0        0.00\n",
       " dtCreatedAt                      0        0.00\n",
       " dtExpiration                 17347       53.05\n",
       " dtRemove                     16778       51.31\n",
       " flActive                         0        0.00,\n",
       "                 missing values count  percentage\n",
       " idPlayer                           0        0.00\n",
       " flFacebook                         0        0.00\n",
       " flTwitter                          0        0.00\n",
       " flTwitch                           0        0.00\n",
       " descCountry                        0        0.00\n",
       " dtBirth                          708       26.07\n",
       " dtRegistration                     0        0.00]"
      ]
     },
     "execution_count": 79,
     "metadata": {},
     "output_type": "execute_result"
    }
   ],
   "source": [
    "missing_dfs"
   ]
  },
  {
   "cell_type": "code",
   "execution_count": 73,
   "id": "d78a0bc6-9208-4d4a-af1c-93d6a3abbd63",
   "metadata": {},
   "outputs": [
    {
     "data": {
      "text/html": [
       "<div>\n",
       "<style scoped>\n",
       "    .dataframe tbody tr th:only-of-type {\n",
       "        vertical-align: middle;\n",
       "    }\n",
       "\n",
       "    .dataframe tbody tr th {\n",
       "        vertical-align: top;\n",
       "    }\n",
       "\n",
       "    .dataframe thead th {\n",
       "        text-align: right;\n",
       "    }\n",
       "</style>\n",
       "<table border=\"1\" class=\"dataframe\">\n",
       "  <thead>\n",
       "    <tr style=\"text-align: right;\">\n",
       "      <th></th>\n",
       "      <th>missing values count</th>\n",
       "      <th>percentage</th>\n",
       "    </tr>\n",
       "  </thead>\n",
       "  <tbody>\n",
       "    <tr>\n",
       "      <th>idLobbyGame</th>\n",
       "      <td>0</td>\n",
       "      <td>0.00</td>\n",
       "    </tr>\n",
       "    <tr>\n",
       "      <th>idPlayer</th>\n",
       "      <td>0</td>\n",
       "      <td>0.00</td>\n",
       "    </tr>\n",
       "    <tr>\n",
       "      <th>idRoom</th>\n",
       "      <td>0</td>\n",
       "      <td>0.00</td>\n",
       "    </tr>\n",
       "    <tr>\n",
       "      <th>qtKill</th>\n",
       "      <td>0</td>\n",
       "      <td>0.00</td>\n",
       "    </tr>\n",
       "    <tr>\n",
       "      <th>qtAssist</th>\n",
       "      <td>0</td>\n",
       "      <td>0.00</td>\n",
       "    </tr>\n",
       "    <tr>\n",
       "      <th>qtDeath</th>\n",
       "      <td>0</td>\n",
       "      <td>0.00</td>\n",
       "    </tr>\n",
       "    <tr>\n",
       "      <th>qtHs</th>\n",
       "      <td>0</td>\n",
       "      <td>0.00</td>\n",
       "    </tr>\n",
       "    <tr>\n",
       "      <th>qtBombeDefuse</th>\n",
       "      <td>0</td>\n",
       "      <td>0.00</td>\n",
       "    </tr>\n",
       "    <tr>\n",
       "      <th>qtBombePlant</th>\n",
       "      <td>0</td>\n",
       "      <td>0.00</td>\n",
       "    </tr>\n",
       "    <tr>\n",
       "      <th>qtTk</th>\n",
       "      <td>120</td>\n",
       "      <td>0.07</td>\n",
       "    </tr>\n",
       "    <tr>\n",
       "      <th>qtTkAssist</th>\n",
       "      <td>120</td>\n",
       "      <td>0.07</td>\n",
       "    </tr>\n",
       "    <tr>\n",
       "      <th>qt1Kill</th>\n",
       "      <td>0</td>\n",
       "      <td>0.00</td>\n",
       "    </tr>\n",
       "    <tr>\n",
       "      <th>qt2Kill</th>\n",
       "      <td>0</td>\n",
       "      <td>0.00</td>\n",
       "    </tr>\n",
       "    <tr>\n",
       "      <th>qt3Kill</th>\n",
       "      <td>0</td>\n",
       "      <td>0.00</td>\n",
       "    </tr>\n",
       "    <tr>\n",
       "      <th>qt4Kill</th>\n",
       "      <td>0</td>\n",
       "      <td>0.00</td>\n",
       "    </tr>\n",
       "    <tr>\n",
       "      <th>qt5Kill</th>\n",
       "      <td>0</td>\n",
       "      <td>0.00</td>\n",
       "    </tr>\n",
       "    <tr>\n",
       "      <th>qtPlusKill</th>\n",
       "      <td>0</td>\n",
       "      <td>0.00</td>\n",
       "    </tr>\n",
       "    <tr>\n",
       "      <th>qtFirstKill</th>\n",
       "      <td>0</td>\n",
       "      <td>0.00</td>\n",
       "    </tr>\n",
       "    <tr>\n",
       "      <th>vlDamage</th>\n",
       "      <td>0</td>\n",
       "      <td>0.00</td>\n",
       "    </tr>\n",
       "    <tr>\n",
       "      <th>qtHits</th>\n",
       "      <td>120</td>\n",
       "      <td>0.07</td>\n",
       "    </tr>\n",
       "    <tr>\n",
       "      <th>qtShots</th>\n",
       "      <td>0</td>\n",
       "      <td>0.00</td>\n",
       "    </tr>\n",
       "    <tr>\n",
       "      <th>qtLastAlive</th>\n",
       "      <td>120</td>\n",
       "      <td>0.07</td>\n",
       "    </tr>\n",
       "    <tr>\n",
       "      <th>qtClutchWon</th>\n",
       "      <td>0</td>\n",
       "      <td>0.00</td>\n",
       "    </tr>\n",
       "    <tr>\n",
       "      <th>qtRoundsPlayed</th>\n",
       "      <td>0</td>\n",
       "      <td>0.00</td>\n",
       "    </tr>\n",
       "    <tr>\n",
       "      <th>descMapName</th>\n",
       "      <td>0</td>\n",
       "      <td>0.00</td>\n",
       "    </tr>\n",
       "    <tr>\n",
       "      <th>vlLevel</th>\n",
       "      <td>0</td>\n",
       "      <td>0.00</td>\n",
       "    </tr>\n",
       "    <tr>\n",
       "      <th>qtSurvived</th>\n",
       "      <td>705</td>\n",
       "      <td>0.38</td>\n",
       "    </tr>\n",
       "    <tr>\n",
       "      <th>qtTrade</th>\n",
       "      <td>705</td>\n",
       "      <td>0.38</td>\n",
       "    </tr>\n",
       "    <tr>\n",
       "      <th>qtFlashAssist</th>\n",
       "      <td>705</td>\n",
       "      <td>0.38</td>\n",
       "    </tr>\n",
       "    <tr>\n",
       "      <th>qtHitHeadshot</th>\n",
       "      <td>705</td>\n",
       "      <td>0.38</td>\n",
       "    </tr>\n",
       "    <tr>\n",
       "      <th>qtHitChest</th>\n",
       "      <td>705</td>\n",
       "      <td>0.38</td>\n",
       "    </tr>\n",
       "    <tr>\n",
       "      <th>qtHitStomach</th>\n",
       "      <td>705</td>\n",
       "      <td>0.38</td>\n",
       "    </tr>\n",
       "    <tr>\n",
       "      <th>qtHitLeftAtm</th>\n",
       "      <td>705</td>\n",
       "      <td>0.38</td>\n",
       "    </tr>\n",
       "    <tr>\n",
       "      <th>qtHitRightArm</th>\n",
       "      <td>705</td>\n",
       "      <td>0.38</td>\n",
       "    </tr>\n",
       "    <tr>\n",
       "      <th>qtHitLeftLeg</th>\n",
       "      <td>705</td>\n",
       "      <td>0.38</td>\n",
       "    </tr>\n",
       "    <tr>\n",
       "      <th>qtHitRightLeg</th>\n",
       "      <td>705</td>\n",
       "      <td>0.38</td>\n",
       "    </tr>\n",
       "    <tr>\n",
       "      <th>flWinner</th>\n",
       "      <td>0</td>\n",
       "      <td>0.00</td>\n",
       "    </tr>\n",
       "    <tr>\n",
       "      <th>dtCreatedAt</th>\n",
       "      <td>0</td>\n",
       "      <td>0.00</td>\n",
       "    </tr>\n",
       "  </tbody>\n",
       "</table>\n",
       "</div>"
      ],
      "text/plain": [
       "                missing values count  percentage\n",
       "idLobbyGame                        0        0.00\n",
       "idPlayer                           0        0.00\n",
       "idRoom                             0        0.00\n",
       "qtKill                             0        0.00\n",
       "qtAssist                           0        0.00\n",
       "qtDeath                            0        0.00\n",
       "qtHs                               0        0.00\n",
       "qtBombeDefuse                      0        0.00\n",
       "qtBombePlant                       0        0.00\n",
       "qtTk                             120        0.07\n",
       "qtTkAssist                       120        0.07\n",
       "qt1Kill                            0        0.00\n",
       "qt2Kill                            0        0.00\n",
       "qt3Kill                            0        0.00\n",
       "qt4Kill                            0        0.00\n",
       "qt5Kill                            0        0.00\n",
       "qtPlusKill                         0        0.00\n",
       "qtFirstKill                        0        0.00\n",
       "vlDamage                           0        0.00\n",
       "qtHits                           120        0.07\n",
       "qtShots                            0        0.00\n",
       "qtLastAlive                      120        0.07\n",
       "qtClutchWon                        0        0.00\n",
       "qtRoundsPlayed                     0        0.00\n",
       "descMapName                        0        0.00\n",
       "vlLevel                            0        0.00\n",
       "qtSurvived                       705        0.38\n",
       "qtTrade                          705        0.38\n",
       "qtFlashAssist                    705        0.38\n",
       "qtHitHeadshot                    705        0.38\n",
       "qtHitChest                       705        0.38\n",
       "qtHitStomach                     705        0.38\n",
       "qtHitLeftAtm                     705        0.38\n",
       "qtHitRightArm                    705        0.38\n",
       "qtHitLeftLeg                     705        0.38\n",
       "qtHitRightLeg                    705        0.38\n",
       "flWinner                           0        0.00\n",
       "dtCreatedAt                        0        0.00"
      ]
     },
     "execution_count": 73,
     "metadata": {},
     "output_type": "execute_result"
    }
   ],
   "source": [
    "missing_dfs[0]"
   ]
  },
  {
   "cell_type": "code",
   "execution_count": 1,
   "id": "b84346cc-510f-4097-970e-930949771990",
   "metadata": {
    "ExecuteTime": {
     "end_time": "2022-05-28T00:14:46.488569Z",
     "start_time": "2022-05-28T00:14:46.154423Z"
    },
    "code_folding": [
     0
    ]
   },
   "outputs": [
    {
     "ename": "NameError",
     "evalue": "name 'missing_df' is not defined",
     "output_type": "error",
     "traceback": [
      "\u001b[0;31m---------------------------------------------------------------------------\u001b[0m",
      "\u001b[0;31mNameError\u001b[0m                                 Traceback (most recent call last)",
      "Cell \u001b[0;32mIn[1], line 2\u001b[0m\n\u001b[1;32m      1\u001b[0m \u001b[38;5;66;03m# missing na chart\u001b[39;00m\n\u001b[0;32m----> 2\u001b[0m barchart \u001b[38;5;241m=\u001b[39m \u001b[43mmissing_df\u001b[49m\u001b[38;5;241m.\u001b[39mplot\u001b[38;5;241m.\u001b[39mbar(y\u001b[38;5;241m=\u001b[39m\u001b[38;5;124m'\u001b[39m\u001b[38;5;124mpercentage\u001b[39m\u001b[38;5;124m'\u001b[39m)\n\u001b[1;32m      3\u001b[0m \u001b[38;5;28;01mfor\u001b[39;00m index, percentage \u001b[38;5;129;01min\u001b[39;00m \u001b[38;5;28menumerate\u001b[39m( missing_percentage ):\n\u001b[1;32m      4\u001b[0m     barchart\u001b[38;5;241m.\u001b[39mtext( index, percentage, \u001b[38;5;28mstr\u001b[39m(percentage)\u001b[38;5;241m+\u001b[39m\u001b[38;5;124m'\u001b[39m\u001b[38;5;124m%\u001b[39m\u001b[38;5;124m'\u001b[39m)\n",
      "\u001b[0;31mNameError\u001b[0m: name 'missing_df' is not defined"
     ]
    }
   ],
   "source": [
    "# missing na chart\n",
    "barchart = missing_df.plot.bar(y='percentage')\n",
    "for index, percentage in enumerate( missing_percentage ):\n",
    "    barchart.text( index, percentage, str(percentage)+'%')"
   ]
  },
  {
   "cell_type": "markdown",
   "id": "0366156b-7f61-43e7-8c5d-63dadbd3a00c",
   "metadata": {},
   "source": [
    "- Markdown 1-5 columns have NAs, all other columns are complete.\n",
    "\n",
    "- It contains lots of missing values, more than 64% of NAs in each markdown column. \n",
    "\n",
    "- They correspond to the promotional activities being carried out at different stores. \n",
    "\n",
    "- The promotional markdowns only started after November 2011 and is not running all the times at all the stores. So this makes sense why these columns have lot of NAs values. \n",
    "\n",
    "- Let's perform the exploratory data analysis and study their relationship with the weekly sales and then we will decide about these columns and the missing values"
   ]
  },
  {
   "cell_type": "markdown",
   "id": "8ad198e1-98ec-4239-9317-120aabdd491f",
   "metadata": {},
   "source": [
    "### 5.5 Fillout NA\n",
    "<a id=\"subsection-five-five\"></a>"
   ]
  },
  {
   "cell_type": "code",
   "execution_count": 9,
   "id": "901e62af-12b6-4643-b546-f1906821b5c6",
   "metadata": {
    "ExecuteTime": {
     "end_time": "2022-05-30T09:01:41.479095Z",
     "start_time": "2022-05-30T09:01:41.371997Z"
    }
   },
   "outputs": [],
   "source": [
    "# replacing NAs with 0\n",
    "df1 = df1.fillna(0)"
   ]
  },
  {
   "cell_type": "markdown",
   "id": "a180a27a-5359-4c4e-ad10-b7d4954009b1",
   "metadata": {},
   "source": [
    "- replacing NAs with 0 even though this action will create more bias to the model\n",
    "- during the next cicle of CRIPS we will take a deep look into it."
   ]
  },
  {
   "cell_type": "markdown",
   "id": "8a34dbe0-f1ea-4e06-931e-bca5ee555e98",
   "metadata": {},
   "source": [
    "### 5.6 Change Types\n",
    "<a id=\"subsection-five-six\"></a>"
   ]
  },
  {
   "cell_type": "code",
   "execution_count": 10,
   "id": "d19eb5e7-60bd-43f2-8ec2-ceace26ab684",
   "metadata": {
    "ExecuteTime": {
     "end_time": "2022-05-30T09:01:42.946805Z",
     "start_time": "2022-05-30T09:01:42.891017Z"
    }
   },
   "outputs": [],
   "source": [
    "\n"
   ]
  },
  {
   "cell_type": "markdown",
   "id": "fb3f49ff-62bb-41ba-bfee-b8ac631a1868",
   "metadata": {},
   "source": [
    "### 5.7 Descriptive Statistics\n",
    "<a id=\"subsection-five-seven\"></a>"
   ]
  },
  {
   "cell_type": "markdown",
   "id": "221aa94b-b11d-417e-bd61-6a59d73ce6e5",
   "metadata": {},
   "source": [
    "- It's usefull to get the first knowledge of the business problem over the features and we can detect some data erros"
   ]
  },
  {
   "cell_type": "code",
   "execution_count": 20,
   "id": "383055d7-7168-40d5-9e85-0a28e073f140",
   "metadata": {
    "ExecuteTime": {
     "end_time": "2022-05-28T00:14:46.656978Z",
     "start_time": "2022-05-28T00:14:46.655101Z"
    },
    "code_folding": []
   },
   "outputs": [],
   "source": [
    "# média: é o ponto médio (central) dentro de uma nuvem de pontos (cada linha do dataset)\n",
    "# std: mostra o quao disperto os pontos estão em torno da média\n",
    "# CV : std/media mostra a disperção dos dados em torno da média +1, -1"
   ]
  },
  {
   "cell_type": "code",
   "execution_count": 22,
   "id": "3890c4ef-6035-4463-848b-ed8b0af8efdd",
   "metadata": {
    "ExecuteTime": {
     "end_time": "2022-05-28T00:14:46.861777Z",
     "start_time": "2022-05-28T00:14:46.858942Z"
    }
   },
   "outputs": [],
   "source": [
    "# separate numerical and categorical attributes\n",
    "num_attributes = df1.select_dtypes( include = 'number')\n",
    "cate_attributes = df1.select_dtypes( include = 'object')"
   ]
  },
  {
   "cell_type": "markdown",
   "id": "8f815b34-b4b6-424a-a85e-c699cb1f3f72",
   "metadata": {},
   "source": [
    "#### 5.7.1 Numerical Attributes"
   ]
  },
  {
   "cell_type": "code",
   "execution_count": 23,
   "id": "35ff2956-743f-40b3-8f04-e37e15d3600c",
   "metadata": {
    "ExecuteTime": {
     "end_time": "2022-05-28T00:14:48.031606Z",
     "start_time": "2022-05-28T00:14:46.946237Z"
    },
    "code_folding": [],
    "collapsed": true,
    "jupyter": {
     "outputs_hidden": true
    },
    "tags": []
   },
   "outputs": [
    {
     "data": {
      "text/html": [
       "<div>\n",
       "<style scoped>\n",
       "    .dataframe tbody tr th:only-of-type {\n",
       "        vertical-align: middle;\n",
       "    }\n",
       "\n",
       "    .dataframe tbody tr th {\n",
       "        vertical-align: top;\n",
       "    }\n",
       "\n",
       "    .dataframe thead th {\n",
       "        text-align: right;\n",
       "    }\n",
       "</style>\n",
       "<table border=\"1\" class=\"dataframe\">\n",
       "  <thead>\n",
       "    <tr style=\"text-align: right;\">\n",
       "      <th></th>\n",
       "      <th>attributes</th>\n",
       "      <th>min</th>\n",
       "      <th>max</th>\n",
       "      <th>range</th>\n",
       "      <th>mean</th>\n",
       "      <th>median</th>\n",
       "      <th>std</th>\n",
       "      <th>skew</th>\n",
       "      <th>kurtosis</th>\n",
       "    </tr>\n",
       "  </thead>\n",
       "  <tbody>\n",
       "    <tr>\n",
       "      <th>0</th>\n",
       "      <td>store</td>\n",
       "      <td>1.000</td>\n",
       "      <td>45.000000</td>\n",
       "      <td>44.000000</td>\n",
       "      <td>22.200546</td>\n",
       "      <td>22.00000</td>\n",
       "      <td>12.785282</td>\n",
       "      <td>0.077763</td>\n",
       "      <td>-1.146503</td>\n",
       "    </tr>\n",
       "    <tr>\n",
       "      <th>1</th>\n",
       "      <td>dept</td>\n",
       "      <td>1.000</td>\n",
       "      <td>99.000000</td>\n",
       "      <td>98.000000</td>\n",
       "      <td>44.260317</td>\n",
       "      <td>37.00000</td>\n",
       "      <td>30.492018</td>\n",
       "      <td>0.358223</td>\n",
       "      <td>-1.215571</td>\n",
       "    </tr>\n",
       "    <tr>\n",
       "      <th>2</th>\n",
       "      <td>weekly_sales</td>\n",
       "      <td>-4988.940</td>\n",
       "      <td>693099.360000</td>\n",
       "      <td>698088.300000</td>\n",
       "      <td>15981.258123</td>\n",
       "      <td>7612.03000</td>\n",
       "      <td>22711.156583</td>\n",
       "      <td>3.262008</td>\n",
       "      <td>21.491290</td>\n",
       "    </tr>\n",
       "    <tr>\n",
       "      <th>3</th>\n",
       "      <td>temperature</td>\n",
       "      <td>-2.060</td>\n",
       "      <td>100.140000</td>\n",
       "      <td>102.200000</td>\n",
       "      <td>60.090059</td>\n",
       "      <td>62.09000</td>\n",
       "      <td>18.447909</td>\n",
       "      <td>-0.321404</td>\n",
       "      <td>-0.635922</td>\n",
       "    </tr>\n",
       "    <tr>\n",
       "      <th>4</th>\n",
       "      <td>fuel_price</td>\n",
       "      <td>2.472</td>\n",
       "      <td>4.468000</td>\n",
       "      <td>1.996000</td>\n",
       "      <td>3.361027</td>\n",
       "      <td>3.45200</td>\n",
       "      <td>0.458514</td>\n",
       "      <td>-0.104901</td>\n",
       "      <td>-1.185405</td>\n",
       "    </tr>\n",
       "    <tr>\n",
       "      <th>5</th>\n",
       "      <td>mark_down1</td>\n",
       "      <td>0.000</td>\n",
       "      <td>88646.760000</td>\n",
       "      <td>88646.760000</td>\n",
       "      <td>2590.074819</td>\n",
       "      <td>0.00000</td>\n",
       "      <td>6052.378756</td>\n",
       "      <td>4.731304</td>\n",
       "      <td>34.917236</td>\n",
       "    </tr>\n",
       "    <tr>\n",
       "      <th>6</th>\n",
       "      <td>mark_down2</td>\n",
       "      <td>-265.760</td>\n",
       "      <td>104519.540000</td>\n",
       "      <td>104785.300000</td>\n",
       "      <td>879.974298</td>\n",
       "      <td>0.00000</td>\n",
       "      <td>5084.532770</td>\n",
       "      <td>10.645956</td>\n",
       "      <td>145.421293</td>\n",
       "    </tr>\n",
       "    <tr>\n",
       "      <th>7</th>\n",
       "      <td>mark_down3</td>\n",
       "      <td>-29.100</td>\n",
       "      <td>141630.610000</td>\n",
       "      <td>141659.710000</td>\n",
       "      <td>468.087665</td>\n",
       "      <td>0.00000</td>\n",
       "      <td>5528.866895</td>\n",
       "      <td>14.922341</td>\n",
       "      <td>248.095371</td>\n",
       "    </tr>\n",
       "    <tr>\n",
       "      <th>8</th>\n",
       "      <td>mark_down4</td>\n",
       "      <td>0.000</td>\n",
       "      <td>67474.850000</td>\n",
       "      <td>67474.850000</td>\n",
       "      <td>1083.132268</td>\n",
       "      <td>0.00000</td>\n",
       "      <td>3894.525326</td>\n",
       "      <td>8.077666</td>\n",
       "      <td>86.242339</td>\n",
       "    </tr>\n",
       "    <tr>\n",
       "      <th>9</th>\n",
       "      <td>mark_down5</td>\n",
       "      <td>0.000</td>\n",
       "      <td>108519.280000</td>\n",
       "      <td>108519.280000</td>\n",
       "      <td>1662.772385</td>\n",
       "      <td>0.00000</td>\n",
       "      <td>4207.624330</td>\n",
       "      <td>9.964519</td>\n",
       "      <td>183.408065</td>\n",
       "    </tr>\n",
       "    <tr>\n",
       "      <th>10</th>\n",
       "      <td>cpi</td>\n",
       "      <td>126.064</td>\n",
       "      <td>227.232807</td>\n",
       "      <td>101.168807</td>\n",
       "      <td>171.201947</td>\n",
       "      <td>182.31878</td>\n",
       "      <td>39.159229</td>\n",
       "      <td>0.085219</td>\n",
       "      <td>-1.829714</td>\n",
       "    </tr>\n",
       "    <tr>\n",
       "      <th>11</th>\n",
       "      <td>unemployment</td>\n",
       "      <td>3.879</td>\n",
       "      <td>14.313000</td>\n",
       "      <td>10.434000</td>\n",
       "      <td>7.960289</td>\n",
       "      <td>7.86600</td>\n",
       "      <td>1.863294</td>\n",
       "      <td>1.183743</td>\n",
       "      <td>2.731217</td>\n",
       "    </tr>\n",
       "    <tr>\n",
       "      <th>12</th>\n",
       "      <td>size</td>\n",
       "      <td>34875.000</td>\n",
       "      <td>219622.000000</td>\n",
       "      <td>184747.000000</td>\n",
       "      <td>136727.915739</td>\n",
       "      <td>140167.00000</td>\n",
       "      <td>60980.511002</td>\n",
       "      <td>-0.325850</td>\n",
       "      <td>-1.206346</td>\n",
       "    </tr>\n",
       "  </tbody>\n",
       "</table>\n",
       "</div>"
      ],
      "text/plain": [
       "      attributes        min            max          range           mean        median           std       skew    kurtosis\n",
       "0          store      1.000      45.000000      44.000000      22.200546      22.00000     12.785282   0.077763   -1.146503\n",
       "1           dept      1.000      99.000000      98.000000      44.260317      37.00000     30.492018   0.358223   -1.215571\n",
       "2   weekly_sales  -4988.940  693099.360000  698088.300000   15981.258123    7612.03000  22711.156583   3.262008   21.491290\n",
       "3    temperature     -2.060     100.140000     102.200000      60.090059      62.09000     18.447909  -0.321404   -0.635922\n",
       "4     fuel_price      2.472       4.468000       1.996000       3.361027       3.45200      0.458514  -0.104901   -1.185405\n",
       "5     mark_down1      0.000   88646.760000   88646.760000    2590.074819       0.00000   6052.378756   4.731304   34.917236\n",
       "6     mark_down2   -265.760  104519.540000  104785.300000     879.974298       0.00000   5084.532770  10.645956  145.421293\n",
       "7     mark_down3    -29.100  141630.610000  141659.710000     468.087665       0.00000   5528.866895  14.922341  248.095371\n",
       "8     mark_down4      0.000   67474.850000   67474.850000    1083.132268       0.00000   3894.525326   8.077666   86.242339\n",
       "9     mark_down5      0.000  108519.280000  108519.280000    1662.772385       0.00000   4207.624330   9.964519  183.408065\n",
       "10           cpi    126.064     227.232807     101.168807     171.201947     182.31878     39.159229   0.085219   -1.829714\n",
       "11  unemployment      3.879      14.313000      10.434000       7.960289       7.86600      1.863294   1.183743    2.731217\n",
       "12          size  34875.000  219622.000000  184747.000000  136727.915739  140167.00000  60980.511002  -0.325850   -1.206346"
      ]
     },
     "execution_count": 23,
     "metadata": {},
     "output_type": "execute_result"
    }
   ],
   "source": [
    "# Central Tendency - Mean, median\n",
    "ct1 = pd.DataFrame( num_attributes.apply( np.mean ) ).T\n",
    "ct2 = pd.DataFrame( num_attributes.apply( np.median ) ).T\n",
    "\n",
    "# Dispersion - std, min, max, range, skew, kurtoisis\n",
    "d1 = pd.DataFrame(num_attributes.apply( np.std )).T\n",
    "d2 = pd.DataFrame(num_attributes.apply( min )).T\n",
    "d3 = pd.DataFrame(num_attributes.apply( max )).T\n",
    "d4 = pd.DataFrame(num_attributes.apply( lambda x: x.max() - x.min() )).T\n",
    "d5 = pd.DataFrame(num_attributes.apply( lambda x: x.skew() )).T\n",
    "d6 = pd.DataFrame(num_attributes.apply( lambda x: x.kurtosis() )).T\n",
    "\n",
    "#concatenate\n",
    "m1 = pd.concat( [d2, d3, d4, ct1, ct2, d1, d5, d6] ).T.reset_index()\n",
    "\n",
    "\n",
    "m1.columns = ['attributes', 'min', 'max', 'range', 'mean', 'median', 'std', 'skew', 'kurtosis']\n",
    "m1"
   ]
  },
  {
   "cell_type": "markdown",
   "id": "aac2fc66-3759-4131-a46d-5d4e315072ba",
   "metadata": {},
   "source": [
    "- histograms were take into account to check how features distributions behave"
   ]
  },
  {
   "cell_type": "markdown",
   "id": "5e1e508f-5b63-4826-b492-03d3ab3658a2",
   "metadata": {},
   "source": [
    "#### 5.7.2 Categorical Attributes"
   ]
  },
  {
   "cell_type": "code",
   "execution_count": 25,
   "id": "413da23c-ba85-42a4-8eea-275f116ebedf",
   "metadata": {
    "ExecuteTime": {
     "end_time": "2022-05-28T00:14:50.292099Z",
     "start_time": "2022-05-28T00:14:50.265944Z"
    }
   },
   "outputs": [
    {
     "data": {
      "text/plain": [
       "type    3\n",
       "dtype: int64"
      ]
     },
     "execution_count": 25,
     "metadata": {},
     "output_type": "execute_result"
    }
   ],
   "source": [
    "# check unique values of categorical features\n",
    "cate_attributes.apply( lambda x: x.unique().shape[0])"
   ]
  },
  {
   "cell_type": "code",
   "execution_count": 26,
   "id": "93f88641-0a93-4dad-99f7-eaa0e6c84dbb",
   "metadata": {
    "ExecuteTime": {
     "end_time": "2022-05-28T00:14:50.311688Z",
     "start_time": "2022-05-28T00:14:50.294110Z"
    }
   },
   "outputs": [
    {
     "data": {
      "text/plain": [
       "A    215478\n",
       "B    163495\n",
       "C     42597\n",
       "Name: type, dtype: int64"
      ]
     },
     "execution_count": 26,
     "metadata": {},
     "output_type": "execute_result"
    }
   ],
   "source": [
    "cate_attributes.type.value_counts()"
   ]
  },
  {
   "cell_type": "code",
   "execution_count": 27,
   "id": "198b5630-ddf4-48d0-bde5-dbd44ee2d71f",
   "metadata": {
    "ExecuteTime": {
     "end_time": "2022-05-28T00:14:52.673979Z",
     "start_time": "2022-05-28T00:14:50.313295Z"
    },
    "cell_style": "center",
    "code_folding": []
   },
   "outputs": [
    {
     "data": {
      "image/png": "[encoded data removed]",
      "text/plain": [
       "<Figure size 1800x864 with 1 Axes>"
      ]
     },
     "metadata": {},
     "output_type": "display_data"
    }
   ],
   "source": [
    "# plot boxplots of categorical features against target variable\n",
    "aux1 = df1[(df1['type'] != '0') & (df1['weekly_sales'] > 0)]\n",
    "\n",
    "plt.subplot (1, 3, 1)\n",
    "sns.boxplot(x='type', y= 'weekly_sales', data=aux1);"
   ]
  },
  {
   "cell_type": "markdown",
   "id": "bd0dc301-15d3-4d7e-86fc-7a287115e85d",
   "metadata": {},
   "source": [
    "- A boxplot is a graph that gives you a good indication of how the values in the data are spread out\n",
    "- boxplots may seem primitive in comparison to a histogram or density plot, they have the advantage of taking up less space, which is useful when comparing distributions between many groups or datasets."
   ]
  },
  {
   "cell_type": "markdown",
   "id": "b5591595-393e-4ab1-a6e7-822dcd401f12",
   "metadata": {},
   "source": [
    "## 6 FEATURE ENGINEERING\n",
    "<a id=\"section-six\"></a>"
   ]
  },
  {
   "cell_type": "markdown",
   "id": "55686d3a-c343-4d3a-816b-0db9067afb06",
   "metadata": {},
   "source": [
    "- in this sessions we created a hypothese mindmap to help us to create hipothesis and after that feature engineering"
   ]
  },
  {
   "cell_type": "code",
   "execution_count": 11,
   "id": "cd9684a0-bd89-42ef-bfde-cbba269058d9",
   "metadata": {
    "ExecuteTime": {
     "end_time": "2022-05-30T09:01:51.297583Z",
     "start_time": "2022-05-30T09:01:51.282226Z"
    }
   },
   "outputs": [],
   "source": [
    "df2 = df1.copy()"
   ]
  },
  {
   "cell_type": "markdown",
   "id": "7003aa22-0271-4670-8b23-0cb092e83a8f",
   "metadata": {},
   "source": [
    "### 6.1 Hypothesis Mindmap"
   ]
  },
  {
   "cell_type": "markdown",
   "id": "37dfcd8b-fefe-4df8-8c1d-2c9d49d6a874",
   "metadata": {
    "ExecuteTime": {
     "end_time": "2021-08-16T19:46:11.701470Z",
     "start_time": "2021-08-16T19:46:11.694778Z"
    }
   },
   "source": [
    "Created based on what affects the business problem:\n",
    "\n",
    "1) Phenomeno: What phenomenon am I modeling?\n",
    "\n",
    "2) Agents: Who are the agents that act on the phenomenon of interest? (all entities that impact the phenomenon)\n",
    "\n",
    "3) Agent attributes: what is the description of the agents? (ex: client is age, salary, profession, etc.)\n",
    "\n",
    "4) List of Hypotheses: Hypotheses to validate with the data\n",
    "\n",
    "\n",
    "- insights are generated in two ways: surprise and belief contravention\n",
    "- Hypotheses are bets, they must be written as a statement in relation to the response variable.\n",
    "- It is not a cause and effect relationship, but a correlation"
   ]
  },
  {
   "cell_type": "code",
   "execution_count": null,
   "id": "fa5b144c-0cf4-4860-b776-b22d6a2a73ca",
   "metadata": {},
   "outputs": [],
   "source": []
  },
  {
   "cell_type": "markdown",
   "id": "923b9598-182f-4c5d-b7e9-5ecd84f6f984",
   "metadata": {},
   "source": [
    "### 6.2 Creating Hypothesis"
   ]
  },
  {
   "cell_type": "code",
   "execution_count": null,
   "id": "13bc34b2-763e-4ace-a994-1b5b002b096b",
   "metadata": {},
   "outputs": [],
   "source": []
  },
  {
   "cell_type": "markdown",
   "id": "122331a3-df39-43e8-b570-8f77ea778565",
   "metadata": {},
   "source": [
    "### 6.4 Feature Engineering"
   ]
  },
  {
   "cell_type": "code",
   "execution_count": null,
   "id": "6e6ad497-89f9-4d5e-a06f-de4bcb77a40c",
   "metadata": {},
   "outputs": [],
   "source": []
  },
  {
   "cell_type": "markdown",
   "id": "77d5c8cb-0142-42da-a71f-0d58f8e2c77d",
   "metadata": {},
   "source": [
    "## 7 VARIABLE FILTERING \n",
    "<a id=\"section-seven\"></a>"
   ]
  },
  {
   "cell_type": "code",
   "execution_count": 13,
   "id": "e14cd3a3-8050-44bb-b61a-b5d4fb4da88d",
   "metadata": {
    "ExecuteTime": {
     "end_time": "2022-05-30T09:02:08.272039Z",
     "start_time": "2022-05-30T09:02:08.209711Z"
    }
   },
   "outputs": [],
   "source": [
    " df3 = df2.copy()"
   ]
  },
  {
   "cell_type": "markdown",
   "id": "288d6dc0-9614-460b-abea-2fb2127cf9b1",
   "metadata": {},
   "source": [
    "the motivation behind variable filtering is business constraints"
   ]
  },
  {
   "cell_type": "markdown",
   "id": "c9938f82-67aa-4594-999a-902cbbc778f0",
   "metadata": {},
   "source": [
    "### 7.1 Rows Filtering"
   ]
  },
  {
   "cell_type": "markdown",
   "id": "4342c9fe-07c2-490a-af11-0d5b5ebb8b07",
   "metadata": {},
   "source": [
    "- Firstly I do the rows filtering because it reduces the dataset volume, increasing the processing performance;\n",
    "- We are removing weekly sales with negative values since it will not increase the bias of the model that much;\n",
    "- During the next CRISP cicle we can work on negative sales and ask the business teams for some business constraints"
   ]
  },
  {
   "cell_type": "markdown",
   "id": "02d17585-7859-4c9f-b5e9-2bea7278ef23",
   "metadata": {},
   "source": [
    "## 8 EXPLORATORY DATA ANALYSIS (EDA)\n",
    "<a id=\"section-eight\"></a>"
   ]
  },
  {
   "cell_type": "markdown",
   "id": "0073c3bd-3353-4015-9ac6-dd36877e785b",
   "metadata": {},
   "source": [
    "How do the variables impact the phenomenon, in this case weekly sales?\n",
    "\n",
    "How strong is this impact?\n",
    "\n",
    "It serves to measure the impact of features in relation to the response variable (target)\n",
    "\n",
    "3 goals:\n",
    "- gain business experience\n",
    "- validate business hypotheses (insights)\n",
    "- elect variables that are important to the model"
   ]
  },
  {
   "cell_type": "code",
   "execution_count": 15,
   "id": "f0e3354e-1a15-431d-b899-8df1262b5488",
   "metadata": {
    "ExecuteTime": {
     "end_time": "2022-05-30T09:02:27.630898Z",
     "start_time": "2022-05-30T09:02:27.603359Z"
    }
   },
   "outputs": [],
   "source": [
    "df4 = df3.copy()"
   ]
  },
  {
   "cell_type": "markdown",
   "id": "a8e30d0b-252c-4182-bd14-95a604e322b0",
   "metadata": {},
   "source": [
    "### 8.1 Univariate Analysis"
   ]
  },
  {
   "cell_type": "markdown",
   "id": "3f8b6955-0e40-483d-a864-8bf34097292a",
   "metadata": {},
   "source": [
    "#### 8.1.1 Response Variable (target)"
   ]
  },
  {
   "cell_type": "code",
   "execution_count": 18,
   "id": "85459e4f-9c40-4ebf-bc77-146941f693f1",
   "metadata": {
    "ExecuteTime": {
     "end_time": "2022-05-29T14:06:12.800758Z",
     "start_time": "2022-05-29T14:06:12.462341Z"
    }
   },
   "outputs": [
    {
     "data": {
      "image/png": "[encoded data removed]",
      "text/plain": [
       "<Figure size 1008x432 with 1 Axes>"
      ]
     },
     "metadata": {},
     "output_type": "display_data"
    }
   ],
   "source": [
    "# plot target variable distribution\n",
    "fig = plt.figure( figsize = (14, 6), constrained_layout=True)\n",
    "sns.distplot(df4['weekly_sales'], kde = False);\n",
    "plt.style.use('tableau-colorblind10');"
   ]
  },
  {
   "cell_type": "markdown",
   "id": "d10e715c-6cfa-4d0a-8a75-4c06c183555d",
   "metadata": {},
   "source": [
    "- It is not close to a normal distribution. \n",
    "- Skew far to the right.\n",
    "- The more normal the response variable, the better the algorithm will perform. We might have to use log transformation later on it"
   ]
  },
  {
   "cell_type": "markdown",
   "id": "490bf1a0-e015-4f9a-b155-0788258f7ce8",
   "metadata": {},
   "source": [
    "#### 8.1.2 Numerical Variable"
   ]
  },
  {
   "cell_type": "code",
   "execution_count": 19,
   "id": "ca650cbd-1e07-4c8f-b4af-4687daa52ddb",
   "metadata": {
    "ExecuteTime": {
     "end_time": "2022-05-29T14:06:22.923578Z",
     "start_time": "2022-05-29T14:06:22.921194Z"
    }
   },
   "outputs": [],
   "source": [
    "num_attributes = df4.select_dtypes( include = 'number')"
   ]
  },
  {
   "cell_type": "code",
   "execution_count": null,
   "id": "f9290283-5b40-4dc7-8e10-8ab6589385ec",
   "metadata": {},
   "outputs": [],
   "source": []
  },
  {
   "cell_type": "markdown",
   "id": "28244b38-da25-472a-9970-0fe502b685cf",
   "metadata": {},
   "source": [
    "**Overall:** All variables don't follow a normal distribution\n",
    "\n",
    " - Store: There are specific stores that have less weekly sales points than others;\n",
    " - dept: There are specific departaments that have less weekly sales points than others;\n",
    " - temperature: THe closest to a normal distribuition, a little skewed to the left (-)\n",
    " - week_of_year: some especifics weeks have more sales data points\n",
    " - month: more sales data points in months 4 and 7\n",
    " - year: more sales data points in the year 2011"
   ]
  },
  {
   "cell_type": "markdown",
   "id": "816cf5fe-a01a-4bc9-8fef-3e73709fc8f2",
   "metadata": {},
   "source": [
    "#### 8.1.3 Categorical Variable"
   ]
  },
  {
   "cell_type": "code",
   "execution_count": 21,
   "id": "5ab09b89-ffbc-4725-87e7-63630b99fc1e",
   "metadata": {
    "ExecuteTime": {
     "end_time": "2022-05-29T14:06:51.489097Z",
     "start_time": "2022-05-29T14:06:51.481438Z"
    }
   },
   "outputs": [],
   "source": [
    "cate_attributes = df4.select_dtypes( include = 'object')"
   ]
  },
  {
   "cell_type": "markdown",
   "id": "4458ae74-d5b7-4975-af87-43f69b685471",
   "metadata": {},
   "source": [
    "- More sales datapoint in stores of type A\n",
    "- Little contribution of the types of stores in relation to the response variable, since the distributions are overlapped.\n",
    "- The median of A is the highest and C is the lowest"
   ]
  },
  {
   "cell_type": "markdown",
   "id": "d2f127f5-3a77-4ae8-bca3-f6f228f456c6",
   "metadata": {},
   "source": [
    "### 8.2 Bivariate Analysis"
   ]
  },
  {
   "cell_type": "markdown",
   "id": "153f7584-ff07-4eb6-a63d-4598ae80859f",
   "metadata": {
    "hidden": true
   },
   "source": [
    "- Each department shows the different level of sales\n",
    "- Department may be the powerful variable to predict sales\n",
    "- When department and type of store are considered together, generally department in A type shows the highest sales record\n",
    "- Type and department may have the interaction effect\n",
    "- There are missing some departaments (eg: 15, 73..)"
   ]
  },
  {
   "cell_type": "code",
   "execution_count": 71,
   "id": "a978e51e-5ab1-4623-8ead-374b2ac771d2",
   "metadata": {
    "ExecuteTime": {
     "end_time": "2022-05-28T00:15:47.871055Z",
     "start_time": "2022-05-28T00:15:47.861361Z"
    },
    "code_folding": [
     0
    ],
    "collapsed": true,
    "hidden": true,
    "jupyter": {
     "outputs_hidden": true
    },
    "tags": []
   },
   "outputs": [
    {
     "data": {
      "text/html": [
       "<div>\n",
       "<style scoped>\n",
       "    .dataframe tbody tr th:only-of-type {\n",
       "        vertical-align: middle;\n",
       "    }\n",
       "\n",
       "    .dataframe tbody tr th {\n",
       "        vertical-align: top;\n",
       "    }\n",
       "\n",
       "    .dataframe thead th {\n",
       "        text-align: right;\n",
       "    }\n",
       "</style>\n",
       "<table border=\"1\" class=\"dataframe\">\n",
       "  <thead>\n",
       "    <tr style=\"text-align: right;\">\n",
       "      <th></th>\n",
       "      <th>Hypothesis</th>\n",
       "      <th>True / False</th>\n",
       "      <th>Relevance</th>\n",
       "    </tr>\n",
       "  </thead>\n",
       "  <tbody>\n",
       "    <tr>\n",
       "      <th>1</th>\n",
       "      <td>Larger stores should sell more.</td>\n",
       "      <td>True</td>\n",
       "      <td>High</td>\n",
       "    </tr>\n",
       "    <tr>\n",
       "      <th>2</th>\n",
       "      <td>Type A stores should sell more.</td>\n",
       "      <td>True</td>\n",
       "      <td>Medium</td>\n",
       "    </tr>\n",
       "    <tr>\n",
       "      <th>3</th>\n",
       "      <td>Stores with more departments should sell more.</td>\n",
       "      <td>True</td>\n",
       "      <td>Low</td>\n",
       "    </tr>\n",
       "    <tr>\n",
       "      <th>4</th>\n",
       "      <td>Stores with more aggressive promotions (bigger...</td>\n",
       "      <td>False</td>\n",
       "      <td>Medium</td>\n",
       "    </tr>\n",
       "    <tr>\n",
       "      <th>5</th>\n",
       "      <td>Stores during the Christmas holiday should sel...</td>\n",
       "      <td>True</td>\n",
       "      <td>Low</td>\n",
       "    </tr>\n",
       "    <tr>\n",
       "      <th>6</th>\n",
       "      <td>Stores should sell more over the years.</td>\n",
       "      <td>False</td>\n",
       "      <td>Low</td>\n",
       "    </tr>\n",
       "    <tr>\n",
       "      <th>7</th>\n",
       "      <td>Stores should sell more in the second half of ...</td>\n",
       "      <td>True</td>\n",
       "      <td>High</td>\n",
       "    </tr>\n",
       "    <tr>\n",
       "      <th>8</th>\n",
       "      <td>Stores should sell more after the 2nd week eac...</td>\n",
       "      <td>False</td>\n",
       "      <td>Low</td>\n",
       "    </tr>\n",
       "    <tr>\n",
       "      <th>9</th>\n",
       "      <td>Places with lower temperatures sell more</td>\n",
       "      <td>False</td>\n",
       "      <td>Low</td>\n",
       "    </tr>\n",
       "    <tr>\n",
       "      <th>10</th>\n",
       "      <td>Locations with lower gas prices sell more.</td>\n",
       "      <td>False</td>\n",
       "      <td>Low</td>\n",
       "    </tr>\n",
       "    <tr>\n",
       "      <th>11</th>\n",
       "      <td>Places with higher unemployment rate sell less,</td>\n",
       "      <td>False</td>\n",
       "      <td>Low</td>\n",
       "    </tr>\n",
       "    <tr>\n",
       "      <th>12</th>\n",
       "      <td>Places with a high consumer confidence index s...</td>\n",
       "      <td>False</td>\n",
       "      <td>Low</td>\n",
       "    </tr>\n",
       "  </tbody>\n",
       "</table>\n",
       "</div>"
      ],
      "text/plain": [
       "                                           Hypothesis True / False Relevance\n",
       "1                     Larger stores should sell more.         True      High\n",
       "2                     Type A stores should sell more.         True    Medium\n",
       "3      Stores with more departments should sell more.         True       Low\n",
       "4   Stores with more aggressive promotions (bigger...        False    Medium\n",
       "5   Stores during the Christmas holiday should sel...         True       Low\n",
       "6             Stores should sell more over the years.        False       Low\n",
       "7   Stores should sell more in the second half of ...         True      High\n",
       "8   Stores should sell more after the 2nd week eac...        False       Low\n",
       "9            Places with lower temperatures sell more        False       Low\n",
       "10         Locations with lower gas prices sell more.        False       Low\n",
       "11    Places with higher unemployment rate sell less,        False       Low\n",
       "12  Places with a high consumer confidence index s...        False       Low"
      ]
     },
     "execution_count": 71,
     "metadata": {},
     "output_type": "execute_result"
    }
   ],
   "source": [
    "# Hypothesis Summary to select feature relevance to the model\n",
    "summary = pd.DataFrame({'Hypothesis':['Larger stores should sell more.',\n",
    "                                      'Type A stores should sell more.',\n",
    "                                      'Stores with more departments should sell more.',\n",
    "                                      'Stores with more aggressive promotions (bigger discounts) should sell more. (markdows)',\n",
    "                                      'Stores during the Christmas holiday should sell more.',\n",
    "                                      'Stores should sell more over the years.',\n",
    "                                      'Stores should sell more in the second half of the year.',\n",
    "                                      'Stores should sell more after the 2nd week each month.',\n",
    "                                      'Places with lower temperatures sell more',\n",
    "                                      'Locations with lower gas prices sell more.',\n",
    "                                      'Places with higher unemployment rate sell less,',\n",
    "                                      'Places with a high consumer confidence index sell more.',\n",
    "                                     ],\n",
    "                        'True / False':['True', 'True', 'True', 'False', 'True', 'False', 'True', 'False', 'False',\n",
    "                                        'False','False', 'False'],\n",
    "                        'Relevance':['High', 'Medium', 'Low', 'Medium', 'Low', 'Low', 'High', 'Low', 'Low', \n",
    "                                     'Low', 'Low', 'Low']}, \n",
    "                        index=[1, 2, 3, 4, 5, 6, 7, 8, 9, 10, 11, 12])\n",
    "summary"
   ]
  },
  {
   "cell_type": "markdown",
   "id": "150fb66a-1bb7-48de-a94e-9b078b9a2b23",
   "metadata": {},
   "source": [
    "### 8.3 Multivariate Analysis"
   ]
  },
  {
   "cell_type": "markdown",
   "id": "017b8a73-ef28-4391-bcf0-c881474bb071",
   "metadata": {},
   "source": [
    "- Checking the relationship between the different columns numerically to see how they correlate with the weekly sales in order to confirm the inferences we have evaluated in the above EDA."
   ]
  },
  {
   "cell_type": "code",
   "execution_count": null,
   "id": "d4847d97-57e3-4b65-a01a-dceb0adedf27",
   "metadata": {
    "ExecuteTime": {
     "end_time": "2022-05-28T00:15:49.184258Z",
     "start_time": "2022-05-28T00:15:47.872910Z"
    },
    "code_folding": [
     0
    ]
   },
   "outputs": [
    {
     "data": {
      "image/png": "[encoded data removed]",
      "text/plain": [
       "<Figure size 1800x864 with 2 Axes>"
      ]
     },
     "metadata": {},
     "output_type": "display_data"
    }
   ],
   "source": [
    "# correlation among all variables\n",
    "correlation = (num_attributes.corr( method = 'pearson' ))\n",
    "sns.heatmap( correlation, annot = True );"
   ]
  },
  {
   "cell_type": "code",
   "execution_count": 73,
   "id": "15716add-28e4-413a-8461-57fb71f88449",
   "metadata": {
    "ExecuteTime": {
     "end_time": "2022-05-28T00:15:49.401033Z",
     "start_time": "2022-05-28T00:15:49.185879Z"
    },
    "code_folding": [
     0
    ],
    "collapsed": true,
    "jupyter": {
     "outputs_hidden": true
    },
    "tags": []
   },
   "outputs": [
    {
     "data": {
      "image/png": "[encoded data removed]",
      "text/plain": [
       "<Figure size 1800x864 with 2 Axes>"
      ]
     },
     "metadata": {},
     "output_type": "display_data"
    }
   ],
   "source": [
    "def plot_corr(col):\n",
    "    a = correlation[col].sort_values(ascending=False).to_frame()\n",
    "    a.columns = ['']\n",
    "    a.drop(col, axis=0, inplace=True)\n",
    "    plot = sns.heatmap( a, annot=True, cmap='Blues').set_title(col);\n",
    "    \n",
    "    return plot\n",
    "\n",
    "plot_corr('weekly_sales');"
   ]
  },
  {
   "cell_type": "markdown",
   "id": "e02cda91-a0a6-49ad-a97a-c3224cc89ad0",
   "metadata": {},
   "source": [
    "## 9 DATA PREPARATION\n",
    "<a id=\"section-nine\"></a>"
   ]
  },
  {
   "cell_type": "code",
   "execution_count": 17,
   "id": "f343fc1a-95fb-493f-a7c0-20bfb370f970",
   "metadata": {
    "ExecuteTime": {
     "end_time": "2022-05-30T09:02:54.009905Z",
     "start_time": "2022-05-30T09:02:53.972659Z"
    }
   },
   "outputs": [],
   "source": [
    "# copy of dataset\n",
    "df5 = df4.copy()"
   ]
  },
  {
   "cell_type": "markdown",
   "id": "63b6b75c-4d31-44b8-8c85-e7a82531efd8",
   "metadata": {},
   "source": [
    "The rescaling methods applied below are based on the features distribution shape and boxplot outlier analysis.\n",
    "\n",
    "- Standard Scaler: applied on variables with a distribution shape similar to a normal distribution;\n",
    "- Min-Max Scaler: applied on variables with low outliers influence;\n",
    "- Robust Scaler: applied on variables with high outliers influence."
   ]
  },
  {
   "cell_type": "markdown",
   "id": "12c63161-afbf-46a7-8a39-65ce58fd3cac",
   "metadata": {},
   "source": [
    "### 9.1 Split dataframe into training and validation"
   ]
  },
  {
   "cell_type": "markdown",
   "id": "62bf9214-c8bf-4e3f-8389-199749af449b",
   "metadata": {},
   "source": [
    "- Here I'm going to split the dataframe into train and validation (Proportion 85/15)\n",
    "- I'm doing that before data preparation to avoid data leakeage.\n",
    "- Data prep will be applied into train dataset (fit_transform), and after that it will be applied in the validation dataset (only transform).\n",
    "- The same will be done in the test data at the end of modelling.\n",
    "- Using temporal variable is a more reliable way of splitting datasets whenever the dataset includes the date variable, and we want to predict something in the future"
   ]
  },
  {
   "cell_type": "markdown",
   "id": "ed824a3d-a52b-4c11-a93f-3c52a911087a",
   "metadata": {},
   "source": [
    "### 9.2 Checking features outliers presence"
   ]
  },
  {
   "cell_type": "code",
   "execution_count": null,
   "id": "df8c4457-960a-4986-a1e6-f47b4e9454ee",
   "metadata": {},
   "outputs": [],
   "source": []
  },
  {
   "cell_type": "markdown",
   "id": "2dfaae4b-0d95-43fa-a441-aebccb19f634",
   "metadata": {
    "ExecuteTime": {
     "end_time": "2021-03-06T22:29:36.132679Z",
     "start_time": "2021-03-06T22:29:36.129657Z"
    }
   },
   "source": [
    "### 9.3 Feature Normalization"
   ]
  },
  {
   "cell_type": "markdown",
   "id": "c5ed4b50-2986-46fb-92a9-767c6b21cfca",
   "metadata": {},
   "source": [
    "**None of the attributes follow a normal distribution**"
   ]
  },
  {
   "cell_type": "markdown",
   "id": "5de13ab3-c988-4e32-b7f7-180729c1b33b",
   "metadata": {},
   "source": [
    "### 9.4 Feature Rescaling"
   ]
  },
  {
   "cell_type": "markdown",
   "id": "02e33a74-b584-4988-8571-67f41a9bae39",
   "metadata": {},
   "source": [
    "### 9.5 Feature Transformation"
   ]
  },
  {
   "cell_type": "markdown",
   "id": "f7a6adb1-887b-443f-9206-eabf185a180e",
   "metadata": {
    "ExecuteTime": {
     "end_time": "2021-03-06T23:23:33.191471Z",
     "start_time": "2021-03-06T23:23:33.188481Z"
    }
   },
   "source": [
    "#### Encoding"
   ]
  },
  {
   "cell_type": "markdown",
   "id": "a0c66df5-5c13-4e0a-be53-ec0cfc5fe3d2",
   "metadata": {},
   "source": [
    "#### Response (Target) Variable Transformation"
   ]
  },
  {
   "cell_type": "markdown",
   "id": "27925bc6-4f1e-4032-a56a-101dbf510736",
   "metadata": {},
   "source": [
    "- The log transformation is, arguably, the most popular among the different types of transformations used to transform skewed data to approximately conform to normality"
   ]
  },
  {
   "cell_type": "markdown",
   "id": "aa074787-c90a-43d6-8ebd-015ff1b231d7",
   "metadata": {},
   "source": [
    "#### Nature Transformation"
   ]
  },
  {
   "cell_type": "markdown",
   "id": "ccfeacd7-f2e4-455c-ab51-69d6d6d3bb1b",
   "metadata": {},
   "source": [
    "- for features that have cyclic behavior: it repeats over time"
   ]
  },
  {
   "cell_type": "markdown",
   "id": "32d4882c-2640-4635-81b5-2bc2ed244b19",
   "metadata": {},
   "source": [
    "### 9.6 Apply Transformations in the Validation dataset"
   ]
  },
  {
   "cell_type": "markdown",
   "id": "7b5285c6-6faa-4ef6-864e-33625476121f",
   "metadata": {},
   "source": [
    "## 10 FEATURE SELECTION\n",
    "<a id=\"section-ten\"></a>"
   ]
  },
  {
   "cell_type": "markdown",
   "id": "71107abc-e7a6-4cf9-8dbf-1ccfac05144f",
   "metadata": {},
   "source": [
    "- Selecting the most relevant features that describes our dataset (phenomenon). removing collinear features, its explain the same part of the phenomenon.\n",
    "\n",
    "- Always prefer the simplest model! occla's razors idea"
   ]
  },
  {
   "cell_type": "markdown",
   "id": "2ef9c8a1-e9fa-4f4a-a3a1-8844953f89ef",
   "metadata": {},
   "source": [
    "### 10.1 Boruta as a Feature Selector"
   ]
  },
  {
   "cell_type": "code",
   "execution_count": 93,
   "id": "399fe8a7-f7d2-4ed9-8743-7c8271ef5ed8",
   "metadata": {
    "ExecuteTime": {
     "end_time": "2022-05-28T00:15:56.127368Z",
     "start_time": "2022-05-28T00:15:56.125013Z"
    }
   },
   "outputs": [],
   "source": [
    "# # creating training and test dataset for Boruta, because it can't be a dataframe type\n",
    "# X_train_n = df6.drop( ['date', 'weekly_sales'], axis=1 ).values\n",
    "# y_train_n = y_train.values.ravel()\n",
    "\n",
    "# # Define RandomForestRegressor\n",
    "# rf = RandomForestRegressor( n_jobs=-1 )\n",
    "\n",
    "# # Define Boruta\n",
    "# boruta = BorutaPy( rf, n_estimators='auto', verbose=2, random_state=42 ).fit( X_train_n, y_train_n )"
   ]
  },
  {
   "cell_type": "markdown",
   "id": "82ede558-54da-46dd-ac50-9a893a7c2e6d",
   "metadata": {},
   "source": [
    "### 10.2 Best Features from Boruta"
   ]
  },
  {
   "cell_type": "code",
   "execution_count": 94,
   "id": "2fed7324-b539-493c-a08d-6b949446eda6",
   "metadata": {
    "ExecuteTime": {
     "end_time": "2022-05-28T00:15:56.130934Z",
     "start_time": "2022-05-28T00:15:56.128865Z"
    },
    "code_folding": []
   },
   "outputs": [],
   "source": [
    "# cols_selected = boruta.support_.tolist()\n",
    "\n",
    "# X_train_fs = df6.drop(['date', 'weekly_sales'], axis = 1)\n",
    "# cols_selected_boruta = X_train_fs.iloc[ :, cols_selected].columns.tolist()\n",
    "\n",
    "# # Not selected boruta features\n",
    "# cols_not_selected_boruta = np.setdiff1d(X_train_fs.columns, cols_selected_boruta)"
   ]
  },
  {
   "cell_type": "code",
   "execution_count": 95,
   "id": "3d9931ef-2968-4098-a0fd-eceddf022bcd",
   "metadata": {
    "ExecuteTime": {
     "end_time": "2022-05-28T00:15:56.134395Z",
     "start_time": "2022-05-28T00:15:56.132288Z"
    },
    "scrolled": true
   },
   "outputs": [],
   "source": [
    "# cols_selected_boruta"
   ]
  },
  {
   "cell_type": "code",
   "execution_count": 96,
   "id": "25dda0e2-9d15-462a-9f3b-c7e6e2a5e097",
   "metadata": {
    "ExecuteTime": {
     "end_time": "2022-05-28T00:15:56.137418Z",
     "start_time": "2022-05-28T00:15:56.135592Z"
    }
   },
   "outputs": [],
   "source": [
    "# cols_not_selected_boruta"
   ]
  },
  {
   "cell_type": "markdown",
   "id": "5954b361-cbef-4934-9a21-d771ae5f7a14",
   "metadata": {},
   "source": [
    "- Due to the computational power required for Boruta, the lines above were commented out so the algorithm doesn't run every time."
   ]
  },
  {
   "cell_type": "markdown",
   "id": "8d608ae3-bfc3-463c-a026-c2d48bc3d56a",
   "metadata": {},
   "source": [
    "### 10.3 Best Features from Random Forest"
   ]
  },
  {
   "cell_type": "code",
   "execution_count": 176,
   "id": "b3f56442-7e82-43b6-83c1-108b9c41404f",
   "metadata": {
    "ExecuteTime": {
     "end_time": "2022-05-28T01:30:56.377398Z",
     "start_time": "2022-05-28T01:29:23.028538Z"
    }
   },
   "outputs": [
    {
     "data": {
      "image/png": "[encoded data removed]",
      "text/plain": [
       "<Figure size 864x432 with 1 Axes>"
      ]
     },
     "metadata": {},
     "output_type": "display_data"
    }
   ],
   "source": [
    "# train random forest classifier\n",
    "rf = RandomForestRegressor(n_estimators = 200, n_jobs =-1, random_state = 42)\n",
    "rf.fit(X_train, y_train)\n",
    "\n",
    "# feature importance data frame\n",
    "feat_imp = pd.DataFrame({'feature': X_train.columns,\n",
    "                        'feature_importance': rf.feature_importances_})\\\n",
    "                        .sort_values('feature_importance', ascending=False)\\\n",
    "                        .reset_index(drop=True)\n",
    "\n",
    "\n",
    "# plot feature importance\n",
    "plt.subplots(figsize=(12,6))\n",
    "sns.barplot(x='feature_importance', y='feature', data=feat_imp, orient='h', color='royalblue')\\\n",
    "    .set_title('Feature Importance');"
   ]
  },
  {
   "cell_type": "markdown",
   "id": "02e6217a-d690-4146-b2f5-74416196a18c",
   "metadata": {},
   "source": [
    "### 10.4 Manual Feature Selection"
   ]
  },
  {
   "cell_type": "code",
   "execution_count": null,
   "id": "362863b0-7906-4275-86e3-5a8987b89bfb",
   "metadata": {},
   "outputs": [],
   "source": []
  },
  {
   "cell_type": "markdown",
   "id": "8558e4cf-1100-4cd5-8ba2-bd457ab3b786",
   "metadata": {},
   "source": [
    "## 11 MACHINE LEARNING ALGORITHM MODELS\n",
    "<a id=\"section-eleven\"></a>"
   ]
  },
  {
   "cell_type": "markdown",
   "id": "8d443536-1bd8-4717-b24d-b68a1ecc6bda",
   "metadata": {},
   "source": [
    "**Four different algorithms are going to be used to predict the target variable:**\n",
    "\n",
    "- **Average:** averaging model is the model we use most in everyday life, it will always predict the average. It is useful as it is a comparative basis for implementing other models\n",
    "\n",
    "- **Linear Regression:** Regression analysis allows you to understand the strength of relationships between variables. Tells you what predictors in a model are statistically significant and which are not. It is less of a black box and is easier to communicate.\n",
    "\n",
    "- **Random Forest:** it is a tree based model build with multiple ensamble decision trees created with the bagging method. Then, all the classifiers take a weighted vote on their predictions. Since the algorithm goal is not trying to find a linear function to describe the event, it works for problems with more complex behaviour\n",
    "\n",
    "- **XGBoost:** it is also a tree based model but they are built in a different way. While Random Forests builds each tree independently, XGBoost builds one tree at the time learning with its predecessor. Therefore, this algorithm doesn't combine results at the end of the process by taking majority votes, it combines the results along the way\n",
    "\n",
    "- **LightGBM:** is a gradient boosting framework that uses tree based learning algorithms. It is designed to be distributed and efficient with the following advantages:\n",
    "\n",
    " - Faster training speed and higher efficiency.\n",
    " - Lower memory usage.\n",
    " - Better accuracy.\n",
    " - Support of parallel, distributed, and GPU learning.\n",
    " - Capable of handling large-scale data."
   ]
  },
  {
   "cell_type": "markdown",
   "id": "086a3b13-c15b-4f36-9d78-483b40543abc",
   "metadata": {
    "ExecuteTime": {
     "end_time": "2022-05-26T21:41:32.935721Z",
     "start_time": "2022-05-26T21:41:32.923890Z"
    }
   },
   "source": [
    "- if we have multiple models to choose from, we should choose the least complex model as they generalize learning better."
   ]
  },
  {
   "cell_type": "code",
   "execution_count": 29,
   "id": "95a5a100-c86f-4b87-99a5-796c1af53574",
   "metadata": {
    "ExecuteTime": {
     "end_time": "2022-05-30T09:04:10.081061Z",
     "start_time": "2022-05-30T09:04:10.001634Z"
    }
   },
   "outputs": [],
   "source": [
    "# Applying selected features by boruta on train and validation datasets\n",
    "x_train = X_train[ cols_selected_boruta ].copy() #selecting only the columns selected by boruta\n",
    "x_validation = X_validation[ cols_selected_boruta ].copy()\n",
    "\n",
    "# Time Series Data Preparation for cross-validation\n",
    "x_training = df6[ cols_selected_boruta_full ].copy()"
   ]
  },
  {
   "cell_type": "markdown",
   "id": "dbe64e27-c2c4-4496-9f71-2514f562cadb",
   "metadata": {},
   "source": [
    "### 11.1 Average Model"
   ]
  },
  {
   "cell_type": "code",
   "execution_count": null,
   "id": "3a978791-8350-439f-8094-af41961ef7b4",
   "metadata": {
    "ExecuteTime": {
     "end_time": "2022-05-28T00:15:56.708745Z",
     "start_time": "2022-05-28T00:15:56.708724Z"
    }
   },
   "outputs": [],
   "source": [
    "# averaging model is the model we use most in everyday life, it will always predict the average.\n",
    "# It is useful as it is a comparative basis for implementing other models\n",
    "\n",
    "# analisando o resultado dos erros de cada modelo testado, percebe-se que erros maiores aconteceram nas regressões lineares\n",
    "## ou seja, o conjunto de dados é complexo, não segue uma linearidade. Modelos apresentaram erros maiores que a média!"
   ]
  },
  {
   "cell_type": "code",
   "execution_count": 31,
   "id": "e986ea3e-d0ae-40c1-b2b8-20a1de5fbbf9",
   "metadata": {
    "ExecuteTime": {
     "end_time": "2022-05-29T18:15:29.373319Z",
     "start_time": "2022-05-29T18:15:29.310403Z"
    }
   },
   "outputs": [
    {
     "data": {
      "text/html": [
       "<div>\n",
       "<style scoped>\n",
       "    .dataframe tbody tr th:only-of-type {\n",
       "        vertical-align: middle;\n",
       "    }\n",
       "\n",
       "    .dataframe tbody tr th {\n",
       "        vertical-align: top;\n",
       "    }\n",
       "\n",
       "    .dataframe thead th {\n",
       "        text-align: right;\n",
       "    }\n",
       "</style>\n",
       "<table border=\"1\" class=\"dataframe\">\n",
       "  <thead>\n",
       "    <tr style=\"text-align: right;\">\n",
       "      <th></th>\n",
       "      <th>Model Name</th>\n",
       "      <th>MAE</th>\n",
       "      <th>RMSE</th>\n",
       "      <th>WMAE</th>\n",
       "    </tr>\n",
       "  </thead>\n",
       "  <tbody>\n",
       "    <tr>\n",
       "      <th>0</th>\n",
       "      <td>Average Model</td>\n",
       "      <td>12924.054151</td>\n",
       "      <td>23496.32364</td>\n",
       "      <td>2439.03</td>\n",
       "    </tr>\n",
       "  </tbody>\n",
       "</table>\n",
       "</div>"
      ],
      "text/plain": [
       "      Model Name           MAE         RMSE     WMAE\n",
       "0  Average Model  12924.054151  23496.32364  2439.03"
      ]
     },
     "execution_count": 31,
     "metadata": {},
     "output_type": "execute_result"
    }
   ],
   "source": [
    "aux1 = x_validation.copy()\n",
    "aux1['weekly_sales'] = y_validation.copy()\n",
    "\n",
    "# Predictions\n",
    "aux2 = aux1[['store', 'weekly_sales']].groupby('store').mean().reset_index().rename(columns = {'weekly_sales': 'predictions'})\n",
    "aux1 = pd.merge( aux1, aux2, how= 'left', on='store')\n",
    "yhat_baseline = aux1['predictions']\n",
    "\n",
    "# Performance\n",
    "baseline_result = ml_error( aux1 ,'Average Model', np.expm1( y_validation ), np.expm1( yhat_baseline ))\n",
    "baseline_result"
   ]
  },
  {
   "cell_type": "markdown",
   "id": "b1eb7fd7-a424-4753-9491-ef292b68424d",
   "metadata": {},
   "source": [
    "### 11.2 Linear Regression Model"
   ]
  },
  {
   "cell_type": "code",
   "execution_count": 49,
   "id": "c88b0425-8fd6-4b82-91ad-bc394d60d788",
   "metadata": {
    "ExecuteTime": {
     "end_time": "2022-05-29T16:54:57.372578Z",
     "start_time": "2022-05-29T16:54:57.218017Z"
    }
   },
   "outputs": [
    {
     "data": {
      "text/html": [
       "<div>\n",
       "<style scoped>\n",
       "    .dataframe tbody tr th:only-of-type {\n",
       "        vertical-align: middle;\n",
       "    }\n",
       "\n",
       "    .dataframe tbody tr th {\n",
       "        vertical-align: top;\n",
       "    }\n",
       "\n",
       "    .dataframe thead th {\n",
       "        text-align: right;\n",
       "    }\n",
       "</style>\n",
       "<table border=\"1\" class=\"dataframe\">\n",
       "  <thead>\n",
       "    <tr style=\"text-align: right;\">\n",
       "      <th></th>\n",
       "      <th>Model Name</th>\n",
       "      <th>MAE</th>\n",
       "      <th>RMSE</th>\n",
       "      <th>WMAE</th>\n",
       "    </tr>\n",
       "  </thead>\n",
       "  <tbody>\n",
       "    <tr>\n",
       "      <th>0</th>\n",
       "      <td>Linear Regression</td>\n",
       "      <td>13055.26203</td>\n",
       "      <td>23476.22923</td>\n",
       "      <td>13129.5</td>\n",
       "    </tr>\n",
       "  </tbody>\n",
       "</table>\n",
       "</div>"
      ],
      "text/plain": [
       "          Model Name          MAE         RMSE     WMAE\n",
       "0  Linear Regression  13055.26203  23476.22923  13129.5"
      ]
     },
     "execution_count": 49,
     "metadata": {},
     "output_type": "execute_result"
    }
   ],
   "source": [
    "# Model\n",
    "lr = LinearRegression().fit(x_train, y_train)\n",
    "\n",
    "# Prediction \n",
    "yhat_lr = lr.predict( x_validation )\n",
    "\n",
    "# Performance\n",
    "lr_result = ml_error( x_validation,'Linear Regression', np.expm1(y_validation), np.expm1(yhat_lr))\n",
    "lr_result"
   ]
  },
  {
   "cell_type": "markdown",
   "id": "8a73dc2d-4d8b-47e0-a731-e57e5e197a77",
   "metadata": {},
   "source": [
    "#### Linear Regression Model - Cross Validation"
   ]
  },
  {
   "cell_type": "code",
   "execution_count": 50,
   "id": "4db34939-7c95-40a1-98ea-d5cf1b876450",
   "metadata": {
    "ExecuteTime": {
     "end_time": "2022-05-29T16:55:05.963599Z",
     "start_time": "2022-05-29T16:55:05.459475Z"
    }
   },
   "outputs": [
    {
     "data": {
      "text/html": [
       "<div>\n",
       "<style scoped>\n",
       "    .dataframe tbody tr th:only-of-type {\n",
       "        vertical-align: middle;\n",
       "    }\n",
       "\n",
       "    .dataframe tbody tr th {\n",
       "        vertical-align: top;\n",
       "    }\n",
       "\n",
       "    .dataframe thead th {\n",
       "        text-align: right;\n",
       "    }\n",
       "</style>\n",
       "<table border=\"1\" class=\"dataframe\">\n",
       "  <thead>\n",
       "    <tr style=\"text-align: right;\">\n",
       "      <th></th>\n",
       "      <th>Model Name</th>\n",
       "      <th>MAE CV</th>\n",
       "      <th>RMSE CV</th>\n",
       "      <th>WMAE CV</th>\n",
       "    </tr>\n",
       "  </thead>\n",
       "  <tbody>\n",
       "    <tr>\n",
       "      <th>0</th>\n",
       "      <td>Linear Regression</td>\n",
       "      <td>13160.62 +/- 241.11</td>\n",
       "      <td>24354.51 +/- 1052.9</td>\n",
       "      <td>13341.3 +/- 435.11</td>\n",
       "    </tr>\n",
       "  </tbody>\n",
       "</table>\n",
       "</div>"
      ],
      "text/plain": [
       "          Model Name               MAE CV              RMSE CV  \\\n",
       "0  Linear Regression  13160.62 +/- 241.11  24354.51 +/- 1052.9   \n",
       "\n",
       "              WMAE CV  \n",
       "0  13341.3 +/- 435.11  "
      ]
     },
     "execution_count": 50,
     "metadata": {},
     "output_type": "execute_result"
    }
   ],
   "source": [
    "lr_result_cv = cross_validation( x_training, 5, 'Linear Regression', lr, verbose=False )\n",
    "lr_result_cv"
   ]
  },
  {
   "cell_type": "markdown",
   "id": "3b1c8204-e716-4f65-9822-b8aa7cbfd15a",
   "metadata": {},
   "source": [
    "### 11.3 Linear Regression Regularized Model - Lasso"
   ]
  },
  {
   "cell_type": "code",
   "execution_count": 51,
   "id": "aa0dadf8-5d1f-48b6-9345-ca9eeb41bcc4",
   "metadata": {
    "ExecuteTime": {
     "end_time": "2022-05-29T16:55:10.623047Z",
     "start_time": "2022-05-29T16:55:10.497229Z"
    }
   },
   "outputs": [
    {
     "data": {
      "text/html": [
       "<div>\n",
       "<style scoped>\n",
       "    .dataframe tbody tr th:only-of-type {\n",
       "        vertical-align: middle;\n",
       "    }\n",
       "\n",
       "    .dataframe tbody tr th {\n",
       "        vertical-align: top;\n",
       "    }\n",
       "\n",
       "    .dataframe thead th {\n",
       "        text-align: right;\n",
       "    }\n",
       "</style>\n",
       "<table border=\"1\" class=\"dataframe\">\n",
       "  <thead>\n",
       "    <tr style=\"text-align: right;\">\n",
       "      <th></th>\n",
       "      <th>Model Name</th>\n",
       "      <th>MAE</th>\n",
       "      <th>RMSE</th>\n",
       "      <th>WMAE</th>\n",
       "    </tr>\n",
       "  </thead>\n",
       "  <tbody>\n",
       "    <tr>\n",
       "      <th>0</th>\n",
       "      <td>Linear Regression - Lasso</td>\n",
       "      <td>13054.810288</td>\n",
       "      <td>23511.683122</td>\n",
       "      <td>13132.65</td>\n",
       "    </tr>\n",
       "  </tbody>\n",
       "</table>\n",
       "</div>"
      ],
      "text/plain": [
       "                  Model Name           MAE          RMSE      WMAE\n",
       "0  Linear Regression - Lasso  13054.810288  23511.683122  13132.65"
      ]
     },
     "execution_count": 51,
     "metadata": {},
     "output_type": "execute_result"
    }
   ],
   "source": [
    "# model\n",
    "lrr = Lasso( alpha=0.01 ).fit( x_train, y_train )\n",
    "\n",
    "# prediction\n",
    "yhat_lrr = lrr.predict( x_validation )\n",
    "\n",
    "# performance\n",
    "lrr_result = ml_error( x_validation,'Linear Regression - Lasso', np.expm1( y_validation ), np.expm1( yhat_lrr ) )\n",
    "lrr_result"
   ]
  },
  {
   "cell_type": "markdown",
   "id": "8f581c62-f863-4c64-9f6e-df32de4df7f1",
   "metadata": {},
   "source": [
    "#### Linear Regression Regularized Model - Lasso"
   ]
  },
  {
   "cell_type": "code",
   "execution_count": 52,
   "id": "81fcf161-f8b1-4f5b-8d66-fd85ded036a2",
   "metadata": {
    "ExecuteTime": {
     "end_time": "2022-05-29T16:55:14.102422Z",
     "start_time": "2022-05-29T16:55:13.578739Z"
    },
    "scrolled": true
   },
   "outputs": [
    {
     "data": {
      "text/html": [
       "<div>\n",
       "<style scoped>\n",
       "    .dataframe tbody tr th:only-of-type {\n",
       "        vertical-align: middle;\n",
       "    }\n",
       "\n",
       "    .dataframe tbody tr th {\n",
       "        vertical-align: top;\n",
       "    }\n",
       "\n",
       "    .dataframe thead th {\n",
       "        text-align: right;\n",
       "    }\n",
       "</style>\n",
       "<table border=\"1\" class=\"dataframe\">\n",
       "  <thead>\n",
       "    <tr style=\"text-align: right;\">\n",
       "      <th></th>\n",
       "      <th>Model Name</th>\n",
       "      <th>MAE CV</th>\n",
       "      <th>RMSE CV</th>\n",
       "      <th>WMAE CV</th>\n",
       "    </tr>\n",
       "  </thead>\n",
       "  <tbody>\n",
       "    <tr>\n",
       "      <th>0</th>\n",
       "      <td>Linear Regression Regularized Model - Lasso</td>\n",
       "      <td>13163.57 +/- 239.89</td>\n",
       "      <td>24393.81 +/- 1038.39</td>\n",
       "      <td>13354.87 +/- 441.74</td>\n",
       "    </tr>\n",
       "  </tbody>\n",
       "</table>\n",
       "</div>"
      ],
      "text/plain": [
       "                                    Model Name               MAE CV  \\\n",
       "0  Linear Regression Regularized Model - Lasso  13163.57 +/- 239.89   \n",
       "\n",
       "                RMSE CV              WMAE CV  \n",
       "0  24393.81 +/- 1038.39  13354.87 +/- 441.74  "
      ]
     },
     "execution_count": 52,
     "metadata": {},
     "output_type": "execute_result"
    }
   ],
   "source": [
    "lrr_result_cv = cross_validation( x_training, 5, 'Linear Regression Regularized Model - Lasso', lrr, verbose=False )\n",
    "lrr_result_cv"
   ]
  },
  {
   "cell_type": "markdown",
   "id": "26fa7ebf-7666-4f56-8071-682f0bb581ba",
   "metadata": {},
   "source": [
    "### 11.4 Random Forest Regressor"
   ]
  },
  {
   "cell_type": "code",
   "execution_count": 31,
   "id": "21b36964-4c65-41ca-a09b-36adddb8553a",
   "metadata": {
    "ExecuteTime": {
     "end_time": "2022-05-29T17:06:07.027435Z",
     "start_time": "2022-05-29T17:05:51.562809Z"
    }
   },
   "outputs": [
    {
     "data": {
      "text/html": [
       "<div>\n",
       "<style scoped>\n",
       "    .dataframe tbody tr th:only-of-type {\n",
       "        vertical-align: middle;\n",
       "    }\n",
       "\n",
       "    .dataframe tbody tr th {\n",
       "        vertical-align: top;\n",
       "    }\n",
       "\n",
       "    .dataframe thead th {\n",
       "        text-align: right;\n",
       "    }\n",
       "</style>\n",
       "<table border=\"1\" class=\"dataframe\">\n",
       "  <thead>\n",
       "    <tr style=\"text-align: right;\">\n",
       "      <th></th>\n",
       "      <th>Model Name</th>\n",
       "      <th>MAE</th>\n",
       "      <th>RMSE</th>\n",
       "      <th>WMAE</th>\n",
       "    </tr>\n",
       "  </thead>\n",
       "  <tbody>\n",
       "    <tr>\n",
       "      <th>0</th>\n",
       "      <td>Random Forest Regressor</td>\n",
       "      <td>1761.420258</td>\n",
       "      <td>3662.683635</td>\n",
       "      <td>1804.25</td>\n",
       "    </tr>\n",
       "  </tbody>\n",
       "</table>\n",
       "</div>"
      ],
      "text/plain": [
       "                Model Name          MAE         RMSE     WMAE\n",
       "0  Random Forest Regressor  1761.420258  3662.683635  1804.25"
      ]
     },
     "execution_count": 31,
     "metadata": {},
     "output_type": "execute_result"
    }
   ],
   "source": [
    "# model\n",
    "rf = RandomForestRegressor( n_estimators = 100, n_jobs =-1, random_state=7 ).fit( x_train, y_train )\n",
    "\n",
    "# prediction\n",
    "yhat_rf = rf.predict( x_validation )\n",
    "\n",
    "# performance\n",
    "rf_result = ml_error( x_validation,'Random Forest Regressor', np.expm1( y_validation ), np.expm1( yhat_rf ) )\n",
    "rf_result"
   ]
  },
  {
   "cell_type": "markdown",
   "id": "e25528b0-5be1-4dfe-9dd7-582b5fa0176d",
   "metadata": {},
   "source": [
    "#### Random Forest Regressor - Cross Validation"
   ]
  },
  {
   "cell_type": "code",
   "execution_count": 32,
   "id": "7ba2eb4c-d2d7-4239-86b9-a7c4deaa8649",
   "metadata": {
    "ExecuteTime": {
     "end_time": "2022-05-29T17:06:46.241130Z",
     "start_time": "2022-05-29T17:06:11.967294Z"
    }
   },
   "outputs": [
    {
     "data": {
      "text/html": [
       "<div>\n",
       "<style scoped>\n",
       "    .dataframe tbody tr th:only-of-type {\n",
       "        vertical-align: middle;\n",
       "    }\n",
       "\n",
       "    .dataframe tbody tr th {\n",
       "        vertical-align: top;\n",
       "    }\n",
       "\n",
       "    .dataframe thead th {\n",
       "        text-align: right;\n",
       "    }\n",
       "</style>\n",
       "<table border=\"1\" class=\"dataframe\">\n",
       "  <thead>\n",
       "    <tr style=\"text-align: right;\">\n",
       "      <th></th>\n",
       "      <th>Model Name</th>\n",
       "      <th>MAE CV</th>\n",
       "      <th>RMSE CV</th>\n",
       "      <th>WMAE CV</th>\n",
       "    </tr>\n",
       "  </thead>\n",
       "  <tbody>\n",
       "    <tr>\n",
       "      <th>0</th>\n",
       "      <td>Random Forest Regressor</td>\n",
       "      <td>2775.0 +/- 558.1</td>\n",
       "      <td>6953.63 +/- 2207.34</td>\n",
       "      <td>2872.34 +/- 594.1</td>\n",
       "    </tr>\n",
       "  </tbody>\n",
       "</table>\n",
       "</div>"
      ],
      "text/plain": [
       "                Model Name            MAE CV              RMSE CV  \\\n",
       "0  Random Forest Regressor  2775.0 +/- 558.1  6953.63 +/- 2207.34   \n",
       "\n",
       "             WMAE CV  \n",
       "0  2872.34 +/- 594.1  "
      ]
     },
     "execution_count": 32,
     "metadata": {},
     "output_type": "execute_result"
    }
   ],
   "source": [
    "rf_result_cv = cross_validation( x_training, 5, 'Random Forest Regressor', rf, verbose=False )\n",
    "rf_result_cv"
   ]
  },
  {
   "cell_type": "markdown",
   "id": "09284d57-18fc-441c-b9fe-5c626763bcf9",
   "metadata": {},
   "source": [
    "### 11.5 XGBoost Regressor"
   ]
  },
  {
   "cell_type": "code",
   "execution_count": 57,
   "id": "98142f0e-37cd-470e-96b2-de981ee503ab",
   "metadata": {
    "ExecuteTime": {
     "end_time": "2022-05-29T14:32:47.414642Z",
     "start_time": "2022-05-29T14:32:43.756773Z"
    }
   },
   "outputs": [
    {
     "data": {
      "text/html": [
       "<div>\n",
       "<style scoped>\n",
       "    .dataframe tbody tr th:only-of-type {\n",
       "        vertical-align: middle;\n",
       "    }\n",
       "\n",
       "    .dataframe tbody tr th {\n",
       "        vertical-align: top;\n",
       "    }\n",
       "\n",
       "    .dataframe thead th {\n",
       "        text-align: right;\n",
       "    }\n",
       "</style>\n",
       "<table border=\"1\" class=\"dataframe\">\n",
       "  <thead>\n",
       "    <tr style=\"text-align: right;\">\n",
       "      <th></th>\n",
       "      <th>Model Name</th>\n",
       "      <th>MAE</th>\n",
       "      <th>RMSE</th>\n",
       "      <th>WMAE</th>\n",
       "    </tr>\n",
       "  </thead>\n",
       "  <tbody>\n",
       "    <tr>\n",
       "      <th>0</th>\n",
       "      <td>XGBoost Regressor</td>\n",
       "      <td>2952.726842</td>\n",
       "      <td>6074.153196</td>\n",
       "      <td>3007.36</td>\n",
       "    </tr>\n",
       "  </tbody>\n",
       "</table>\n",
       "</div>"
      ],
      "text/plain": [
       "          Model Name          MAE         RMSE     WMAE\n",
       "0  XGBoost Regressor  2952.726842  6074.153196  3007.36"
      ]
     },
     "execution_count": 57,
     "metadata": {},
     "output_type": "execute_result"
    }
   ],
   "source": [
    "# model\n",
    "model_xgb = xgb.XGBRegressor( objective='reg:squarederror',\n",
    "                              n_estimators = 100, random_state=7).fit( x_train, y_train )\n",
    "\n",
    "# prediction\n",
    "yhat_xgb = model_xgb.predict( x_validation )\n",
    "\n",
    "# performance\n",
    "xgb_result = ml_error(x_validation ,'XGBoost Regressor', np.expm1( y_validation ), np.expm1( yhat_xgb ) )\n",
    "xgb_result"
   ]
  },
  {
   "cell_type": "markdown",
   "id": "1b1498f6-6b5f-4b34-9513-054d70b3a77e",
   "metadata": {},
   "source": [
    "#### XGBoost Regressor - Cross Validation"
   ]
  },
  {
   "cell_type": "code",
   "execution_count": 58,
   "id": "1294800e-f3ed-4e15-88ab-2bf787952e39",
   "metadata": {
    "ExecuteTime": {
     "end_time": "2022-05-29T14:33:11.879838Z",
     "start_time": "2022-05-29T14:33:02.897259Z"
    }
   },
   "outputs": [
    {
     "data": {
      "text/html": [
       "<div>\n",
       "<style scoped>\n",
       "    .dataframe tbody tr th:only-of-type {\n",
       "        vertical-align: middle;\n",
       "    }\n",
       "\n",
       "    .dataframe tbody tr th {\n",
       "        vertical-align: top;\n",
       "    }\n",
       "\n",
       "    .dataframe thead th {\n",
       "        text-align: right;\n",
       "    }\n",
       "</style>\n",
       "<table border=\"1\" class=\"dataframe\">\n",
       "  <thead>\n",
       "    <tr style=\"text-align: right;\">\n",
       "      <th></th>\n",
       "      <th>Model Name</th>\n",
       "      <th>MAE CV</th>\n",
       "      <th>RMSE CV</th>\n",
       "      <th>WMAE CV</th>\n",
       "    </tr>\n",
       "  </thead>\n",
       "  <tbody>\n",
       "    <tr>\n",
       "      <th>0</th>\n",
       "      <td>XGBoost Regressor</td>\n",
       "      <td>3685.23 +/- 304.57</td>\n",
       "      <td>8613.26 +/- 1644.38</td>\n",
       "      <td>3803.76 +/- 414.59</td>\n",
       "    </tr>\n",
       "  </tbody>\n",
       "</table>\n",
       "</div>"
      ],
      "text/plain": [
       "          Model Name              MAE CV              RMSE CV             WMAE CV\n",
       "0  XGBoost Regressor  3685.23 +/- 304.57  8613.26 +/- 1644.38  3803.76 +/- 414.59"
      ]
     },
     "execution_count": 58,
     "metadata": {},
     "output_type": "execute_result"
    }
   ],
   "source": [
    "xgb_result_cv = cross_validation( x_training, 5, 'XGBoost Regressor', model_xgb, verbose=False )\n",
    "xgb_result_cv"
   ]
  },
  {
   "cell_type": "code",
   "execution_count": 148,
   "id": "6c4ad673-8d72-4fb2-98ab-6cd95b047b0c",
   "metadata": {
    "ExecuteTime": {
     "end_time": "2022-05-28T00:35:20.277329Z",
     "start_time": "2022-05-28T00:35:20.268559Z"
    },
    "scrolled": true
   },
   "outputs": [
    {
     "data": {
      "text/html": [
       "<div>\n",
       "<style scoped>\n",
       "    .dataframe tbody tr th:only-of-type {\n",
       "        vertical-align: middle;\n",
       "    }\n",
       "\n",
       "    .dataframe tbody tr th {\n",
       "        vertical-align: top;\n",
       "    }\n",
       "\n",
       "    .dataframe thead th {\n",
       "        text-align: right;\n",
       "    }\n",
       "</style>\n",
       "<table border=\"1\" class=\"dataframe\">\n",
       "  <thead>\n",
       "    <tr style=\"text-align: right;\">\n",
       "      <th></th>\n",
       "      <th>Model Name</th>\n",
       "      <th>MAE CV</th>\n",
       "      <th>MAPE CV</th>\n",
       "      <th>RMSE CV</th>\n",
       "      <th>WMAE CV</th>\n",
       "    </tr>\n",
       "  </thead>\n",
       "  <tbody>\n",
       "    <tr>\n",
       "      <th>0</th>\n",
       "      <td>XGBoost Regressor</td>\n",
       "      <td>15697.52 +/- 216.71</td>\n",
       "      <td>inf +/- nan</td>\n",
       "      <td>27548.58 +/- 969.64</td>\n",
       "      <td>15893.9 +/- 430.09</td>\n",
       "    </tr>\n",
       "  </tbody>\n",
       "</table>\n",
       "</div>"
      ],
      "text/plain": [
       "          Model Name               MAE CV      MAPE CV              RMSE CV             WMAE CV\n",
       "0  XGBoost Regressor  15697.52 +/- 216.71  inf +/- nan  27548.58 +/- 969.64  15893.9 +/- 430.09"
      ]
     },
     "execution_count": 148,
     "metadata": {},
     "output_type": "execute_result"
    }
   ],
   "source": [
    "xgb_result_cv"
   ]
  },
  {
   "cell_type": "markdown",
   "id": "86a6b1ca-14ea-4552-acd2-951f0c474aad",
   "metadata": {},
   "source": [
    "### 11.6 LightGBM Regressor"
   ]
  },
  {
   "cell_type": "code",
   "execution_count": 61,
   "id": "13afdcaa-4434-43be-9bbd-864e2030116c",
   "metadata": {
    "ExecuteTime": {
     "end_time": "2022-05-29T14:35:03.232172Z",
     "start_time": "2022-05-29T14:35:03.228555Z"
    }
   },
   "outputs": [],
   "source": []
  },
  {
   "cell_type": "code",
   "execution_count": 68,
   "id": "ed3047dd-ba20-4563-91a8-eea29e6bae50",
   "metadata": {
    "ExecuteTime": {
     "end_time": "2022-05-29T14:43:27.529195Z",
     "start_time": "2022-05-29T14:43:26.529269Z"
    }
   },
   "outputs": [
    {
     "data": {
      "text/html": [
       "<div>\n",
       "<style scoped>\n",
       "    .dataframe tbody tr th:only-of-type {\n",
       "        vertical-align: middle;\n",
       "    }\n",
       "\n",
       "    .dataframe tbody tr th {\n",
       "        vertical-align: top;\n",
       "    }\n",
       "\n",
       "    .dataframe thead th {\n",
       "        text-align: right;\n",
       "    }\n",
       "</style>\n",
       "<table border=\"1\" class=\"dataframe\">\n",
       "  <thead>\n",
       "    <tr style=\"text-align: right;\">\n",
       "      <th></th>\n",
       "      <th>Model Name</th>\n",
       "      <th>MAE</th>\n",
       "      <th>RMSE</th>\n",
       "      <th>WMAE</th>\n",
       "    </tr>\n",
       "  </thead>\n",
       "  <tbody>\n",
       "    <tr>\n",
       "      <th>0</th>\n",
       "      <td>LightGBM Regressor</td>\n",
       "      <td>4399.577198</td>\n",
       "      <td>8826.42911</td>\n",
       "      <td>4453.36</td>\n",
       "    </tr>\n",
       "  </tbody>\n",
       "</table>\n",
       "</div>"
      ],
      "text/plain": [
       "           Model Name          MAE        RMSE     WMAE\n",
       "0  LightGBM Regressor  4399.577198  8826.42911  4453.36"
      ]
     },
     "execution_count": 68,
     "metadata": {},
     "output_type": "execute_result"
    }
   ],
   "source": [
    "# model\n",
    "model_lgbm = lgbm.LGBMRegressor(n_estimators = 100, n_jobs =-1, random_state=7).fit( x_train, y_train )\n",
    "\n",
    "# prediction\n",
    "yhat_lgbm = model_lgbm.predict( x_validation )\n",
    "\n",
    "# performance\n",
    "lgbm_result = ml_error(x_validation ,'LightGBM Regressor', np.expm1( y_validation ), np.expm1( yhat_lgbm ) )\n",
    "lgbm_result"
   ]
  },
  {
   "cell_type": "markdown",
   "id": "736589b8-382a-4aee-9ab5-c7da4e66d55e",
   "metadata": {},
   "source": [
    "#### LightGBM Regressor - Cross Validation"
   ]
  },
  {
   "cell_type": "code",
   "execution_count": 64,
   "id": "3fd38bca-0ab6-4110-b3c4-a8c5e24de592",
   "metadata": {
    "ExecuteTime": {
     "end_time": "2022-05-29T14:41:45.546173Z",
     "start_time": "2022-05-29T14:41:43.636572Z"
    }
   },
   "outputs": [
    {
     "data": {
      "text/html": [
       "<div>\n",
       "<style scoped>\n",
       "    .dataframe tbody tr th:only-of-type {\n",
       "        vertical-align: middle;\n",
       "    }\n",
       "\n",
       "    .dataframe tbody tr th {\n",
       "        vertical-align: top;\n",
       "    }\n",
       "\n",
       "    .dataframe thead th {\n",
       "        text-align: right;\n",
       "    }\n",
       "</style>\n",
       "<table border=\"1\" class=\"dataframe\">\n",
       "  <thead>\n",
       "    <tr style=\"text-align: right;\">\n",
       "      <th></th>\n",
       "      <th>Model Name</th>\n",
       "      <th>MAE CV</th>\n",
       "      <th>RMSE CV</th>\n",
       "      <th>WMAE CV</th>\n",
       "    </tr>\n",
       "  </thead>\n",
       "  <tbody>\n",
       "    <tr>\n",
       "      <th>0</th>\n",
       "      <td>LightGBM Regressor</td>\n",
       "      <td>4884.15 +/- 250.16</td>\n",
       "      <td>10879.84 +/- 1668.93</td>\n",
       "      <td>5072.19 +/- 387.73</td>\n",
       "    </tr>\n",
       "  </tbody>\n",
       "</table>\n",
       "</div>"
      ],
      "text/plain": [
       "           Model Name              MAE CV               RMSE CV             WMAE CV\n",
       "0  LightGBM Regressor  4884.15 +/- 250.16  10879.84 +/- 1668.93  5072.19 +/- 387.73"
      ]
     },
     "execution_count": 64,
     "metadata": {},
     "output_type": "execute_result"
    }
   ],
   "source": [
    "lgbm_result_cv = cross_validation( x_training, 5, 'LightGBM Regressor', model_lgbm, verbose=False )\n",
    "lgbm_result_cv"
   ]
  },
  {
   "cell_type": "code",
   "execution_count": null,
   "id": "68f082a5-5142-4c4e-b677-97849b31eab8",
   "metadata": {},
   "outputs": [],
   "source": []
  },
  {
   "cell_type": "markdown",
   "id": "8f23ac9f-f471-495e-a5bb-2948cd867b0c",
   "metadata": {},
   "source": [
    "### 11.7 Compare Model's Performance"
   ]
  },
  {
   "cell_type": "markdown",
   "id": "0c60e4a5-f90f-4deb-ba2d-e25cc8c4b239",
   "metadata": {},
   "source": [
    "#### 11.7.1 Single Performance - 1 fold"
   ]
  },
  {
   "cell_type": "code",
   "execution_count": 99,
   "id": "5ed25acb-62c5-4fb0-8eb5-dcb16744489e",
   "metadata": {
    "ExecuteTime": {
     "end_time": "2022-05-29T15:07:58.383335Z",
     "start_time": "2022-05-29T15:07:58.376424Z"
    },
    "scrolled": true
   },
   "outputs": [
    {
     "data": {
      "text/html": [
       "<div>\n",
       "<style scoped>\n",
       "    .dataframe tbody tr th:only-of-type {\n",
       "        vertical-align: middle;\n",
       "    }\n",
       "\n",
       "    .dataframe tbody tr th {\n",
       "        vertical-align: top;\n",
       "    }\n",
       "\n",
       "    .dataframe thead th {\n",
       "        text-align: right;\n",
       "    }\n",
       "</style>\n",
       "<table border=\"1\" class=\"dataframe\">\n",
       "  <thead>\n",
       "    <tr style=\"text-align: right;\">\n",
       "      <th></th>\n",
       "      <th>MAE</th>\n",
       "      <th>RMSE</th>\n",
       "      <th>WMAE</th>\n",
       "    </tr>\n",
       "    <tr>\n",
       "      <th>Model Name</th>\n",
       "      <th></th>\n",
       "      <th></th>\n",
       "      <th></th>\n",
       "    </tr>\n",
       "  </thead>\n",
       "  <tbody>\n",
       "    <tr>\n",
       "      <th>Random Forest Regressor</th>\n",
       "      <td>1761.420258</td>\n",
       "      <td>3662.683635</td>\n",
       "      <td>1804.25</td>\n",
       "    </tr>\n",
       "    <tr>\n",
       "      <th>XGBoost Regressor</th>\n",
       "      <td>2952.726842</td>\n",
       "      <td>6074.153196</td>\n",
       "      <td>3007.36</td>\n",
       "    </tr>\n",
       "    <tr>\n",
       "      <th>LightGBM Regressor</th>\n",
       "      <td>4399.577198</td>\n",
       "      <td>8826.429110</td>\n",
       "      <td>4453.36</td>\n",
       "    </tr>\n",
       "    <tr>\n",
       "      <th>Linear Regression</th>\n",
       "      <td>13055.262030</td>\n",
       "      <td>23476.229230</td>\n",
       "      <td>13129.50</td>\n",
       "    </tr>\n",
       "    <tr>\n",
       "      <th>Average Model</th>\n",
       "      <td>12924.054151</td>\n",
       "      <td>23496.323640</td>\n",
       "      <td>2439.03</td>\n",
       "    </tr>\n",
       "    <tr>\n",
       "      <th>Linear Regression - Lasso</th>\n",
       "      <td>13054.810288</td>\n",
       "      <td>23511.683122</td>\n",
       "      <td>13132.65</td>\n",
       "    </tr>\n",
       "  </tbody>\n",
       "</table>\n",
       "</div>"
      ],
      "text/plain": [
       "                                    MAE          RMSE      WMAE\n",
       "Model Name                                                     \n",
       "Random Forest Regressor     1761.420258   3662.683635   1804.25\n",
       "XGBoost Regressor           2952.726842   6074.153196   3007.36\n",
       "LightGBM Regressor          4399.577198   8826.429110   4453.36\n",
       "Linear Regression          13055.262030  23476.229230  13129.50\n",
       "Average Model              12924.054151  23496.323640   2439.03\n",
       "Linear Regression - Lasso  13054.810288  23511.683122  13132.65"
      ]
     },
     "execution_count": 99,
     "metadata": {},
     "output_type": "execute_result"
    }
   ],
   "source": [
    "results = pd.concat( [baseline_result, lr_result, lrr_result, rf_result, xgb_result, lgbm_result ] ).set_index('Model Name')\n",
    "results.sort_values('RMSE')"
   ]
  },
  {
   "cell_type": "markdown",
   "id": "7ce9d140-6a92-413b-8d17-4da8a553bf14",
   "metadata": {},
   "source": [
    "#### 11.7.2 Real Performance - Cross Validation - 5 folds"
   ]
  },
  {
   "cell_type": "code",
   "execution_count": 101,
   "id": "ac6920d7-572c-4ce4-9b8e-3b212c488f26",
   "metadata": {
    "ExecuteTime": {
     "end_time": "2022-05-29T15:09:40.335234Z",
     "start_time": "2022-05-29T15:09:40.317405Z"
    },
    "scrolled": true
   },
   "outputs": [
    {
     "data": {
      "text/html": [
       "<div>\n",
       "<style scoped>\n",
       "    .dataframe tbody tr th:only-of-type {\n",
       "        vertical-align: middle;\n",
       "    }\n",
       "\n",
       "    .dataframe tbody tr th {\n",
       "        vertical-align: top;\n",
       "    }\n",
       "\n",
       "    .dataframe thead th {\n",
       "        text-align: right;\n",
       "    }\n",
       "</style>\n",
       "<table border=\"1\" class=\"dataframe\">\n",
       "  <thead>\n",
       "    <tr style=\"text-align: right;\">\n",
       "      <th></th>\n",
       "      <th>MAE CV</th>\n",
       "      <th>RMSE CV</th>\n",
       "      <th>WMAE CV</th>\n",
       "    </tr>\n",
       "    <tr>\n",
       "      <th>Model Name</th>\n",
       "      <th></th>\n",
       "      <th></th>\n",
       "      <th></th>\n",
       "    </tr>\n",
       "  </thead>\n",
       "  <tbody>\n",
       "    <tr>\n",
       "      <th>Linear Regression</th>\n",
       "      <td>13160.62 +/- 241.11</td>\n",
       "      <td>24354.51 +/- 1052.9</td>\n",
       "      <td>13341.3 +/- 435.11</td>\n",
       "    </tr>\n",
       "    <tr>\n",
       "      <th>Linear Regression Regularized Model - Lasso</th>\n",
       "      <td>13163.57 +/- 239.89</td>\n",
       "      <td>24393.81 +/- 1038.39</td>\n",
       "      <td>13354.87 +/- 441.74</td>\n",
       "    </tr>\n",
       "    <tr>\n",
       "      <th>Random Forest Regressor</th>\n",
       "      <td>2775.0 +/- 558.1</td>\n",
       "      <td>6953.63 +/- 2207.34</td>\n",
       "      <td>2872.34 +/- 594.1</td>\n",
       "    </tr>\n",
       "    <tr>\n",
       "      <th>XGBoost Regressor</th>\n",
       "      <td>3685.23 +/- 304.57</td>\n",
       "      <td>8613.26 +/- 1644.38</td>\n",
       "      <td>3803.76 +/- 414.59</td>\n",
       "    </tr>\n",
       "    <tr>\n",
       "      <th>LightGBM Regressor</th>\n",
       "      <td>4884.15 +/- 250.16</td>\n",
       "      <td>10879.84 +/- 1668.93</td>\n",
       "      <td>5072.19 +/- 387.73</td>\n",
       "    </tr>\n",
       "  </tbody>\n",
       "</table>\n",
       "</div>"
      ],
      "text/plain": [
       "                                                          MAE CV               RMSE CV              WMAE CV\n",
       "Model Name                                                                                                 \n",
       "Linear Regression                            13160.62 +/- 241.11   24354.51 +/- 1052.9   13341.3 +/- 435.11\n",
       "Linear Regression Regularized Model - Lasso  13163.57 +/- 239.89  24393.81 +/- 1038.39  13354.87 +/- 441.74\n",
       "Random Forest Regressor                         2775.0 +/- 558.1   6953.63 +/- 2207.34    2872.34 +/- 594.1\n",
       "XGBoost Regressor                             3685.23 +/- 304.57   8613.26 +/- 1644.38   3803.76 +/- 414.59\n",
       "LightGBM Regressor                            4884.15 +/- 250.16  10879.84 +/- 1668.93   5072.19 +/- 387.73"
      ]
     },
     "execution_count": 101,
     "metadata": {},
     "output_type": "execute_result"
    }
   ],
   "source": [
    "results_cv = pd.concat([lr_result_cv , lrr_result_cv , rf_result_cv, xgb_result_cv, lgbm_result_cv]).set_index('Model Name')\n",
    "results_cv"
   ]
  },
  {
   "cell_type": "markdown",
   "id": "f6218b60-77be-4b7b-911f-2cf14f91dca8",
   "metadata": {},
   "source": [
    "- The choosen model was the one with the best performance with crossvalidation -> **Random Forest Regressor**"
   ]
  },
  {
   "cell_type": "markdown",
   "id": "506be973-e2ff-429a-b37f-466af909ac8b",
   "metadata": {},
   "source": [
    "- If our use case demands that occasional large mistakes in your predictions need to be avoided then use RMSE, however if you want an error metric that treats all errors equally and returns a more interpretable error value then use MAE."
   ]
  },
  {
   "cell_type": "markdown",
   "id": "c20cd2cb-fc34-4aaf-bc05-5a8a3aa9c4b7",
   "metadata": {},
   "source": [
    "## 12 HYPERPARAMETERS FINE TUNING\n",
    "<a id=\"section-twelve\"></a>"
   ]
  },
  {
   "cell_type": "markdown",
   "id": "45310931-295a-45d1-9c2d-f7657a3e532e",
   "metadata": {},
   "source": [
    "### 12.1 Random Search"
   ]
  },
  {
   "cell_type": "markdown",
   "id": "204ff636-5637-4f06-b2b5-215d58667daa",
   "metadata": {},
   "source": [
    "### 12.2 Final Model"
   ]
  },
  {
   "cell_type": "markdown",
   "id": "fad76ce3-69cc-467c-9471-78df45924d53",
   "metadata": {},
   "source": [
    "## 13 ERROR INTERPRETATION\n",
    "<a id=\"section-thirteen\"></a>"
   ]
  },
  {
   "cell_type": "markdown",
   "id": "40e3e703-7fa2-4a47-9fe5-1539bc25e8d4",
   "metadata": {},
   "source": [
    "### 13.1 Business Performance - Store Granularity"
   ]
  },
  {
   "cell_type": "markdown",
   "id": "ff36860f-3c0c-4ac0-af4b-40ed142e2157",
   "metadata": {},
   "source": [
    "- In this section we are evaluating bussiness peformance for each store. Looking at the sales for the next 22 weeks"
   ]
  },
  {
   "cell_type": "markdown",
   "id": "4614a0e2-6ae7-4308-a20b-f373cc91d3ce",
   "metadata": {},
   "source": [
    "### 13.2 Business Performance - Department Granularity"
   ]
  },
  {
   "cell_type": "markdown",
   "id": "92679edd-b8fd-4a73-ae27-53ea7602b595",
   "metadata": {},
   "source": [
    "### 13.3 Total Performance"
   ]
  },
  {
   "cell_type": "markdown",
   "id": "d270a3d2-e187-4d9a-b4c9-7c27da08a879",
   "metadata": {},
   "source": [
    "### 13.4 Machine Learning Performance "
   ]
  },
  {
   "cell_type": "markdown",
   "id": "7b209255-140e-425f-a67f-1bcba39da17d",
   "metadata": {},
   "source": [
    "- The first graph above shows us the predictions (orage line) which tends to follow the sales values (blue line) over the last 22 weeks of sales, meaning that the model predicted well the sales, so it is following a good pattern.\n",
    "\n",
    "- The second graph shows us the error rate against the sales. The error rate is the ratio between prediction values and observed values. The model does have some high rates, it could performe better.\n",
    "\n",
    "- One of the premises for a good machine learning model is to have a normal-shaped distribution of residuals with mean zero. In the third graph, we can observe that the errors are centered around zero, and its distribution resembles a normal, bell-shaped curve.\n",
    "\n",
    "- The last graph is a scatterplot with predictions plotted against the error for each sales day. Ideally, we would have all data points concentrated within a \"tube\" since it represents low error variance across all values that sales prediction can assume. In our case some predictions have high error values, so we can stress more the model or create better features to get better performance."
   ]
  },
  {
   "cell_type": "markdown",
   "id": "628b535a-f5fe-46a0-a91e-afa5849e5384",
   "metadata": {},
   "source": [
    "## 14 MODEL SUBMISSION\n",
    "<a id=\"section-fourteen\"></a>"
   ]
  },
  {
   "cell_type": "markdown",
   "id": "327aaa1e-37e6-4534-b907-b2715b863cff",
   "metadata": {},
   "source": [
    "### 14.1 Loading Model and Scalers"
   ]
  },
  {
   "cell_type": "markdown",
   "id": "1b207f45-17b6-4efd-afb0-3c033cf6876f",
   "metadata": {},
   "source": [
    "### 14.2 Data ETL"
   ]
  },
  {
   "cell_type": "code",
   "execution_count": 13,
   "id": "9b029b2d-5ec8-40b6-940d-cf852deaee5d",
   "metadata": {
    "ExecuteTime": {
     "end_time": "2022-05-30T11:00:10.823223Z",
     "start_time": "2022-05-30T11:00:10.812089Z"
    },
    "code_folding": [
     1,
     9,
     26,
     47,
     86
    ]
   },
   "outputs": [],
   "source": [
    "# defining data pipeline\n",
    "def data_merge(df_test, df_features, df_stores):\n",
    "\n",
    "    return df_test\n",
    "\n",
    "def data_cleaning(df1):\n",
    "\n",
    "    \n",
    "    return df1\n",
    "\n",
    "def data_feature_engineering(df2):\n",
    "\n",
    "\n",
    "    return df2\n",
    "\n",
    "def data_preparation(df5):\n",
    "    # Applying all transformations on validation dataset\n",
    "    #Validation dataset features transform - Robust Scaler\n",
    "\n",
    "    return df5[cols_selected]\n",
    "\n",
    "def get_prediction(model, original_data, test_data):\n",
    "\n",
    "    return original_data\n",
    "        # original_data.to_csv('submission.csv',index=False)"
   ]
  },
  {
   "cell_type": "code",
   "execution_count": 14,
   "id": "c418b86d-21d9-4d42-bec7-188ec1aa723e",
   "metadata": {
    "ExecuteTime": {
     "end_time": "2022-05-30T11:00:14.619889Z",
     "start_time": "2022-05-30T11:00:12.710573Z"
    },
    "scrolled": true
   },
   "outputs": [],
   "source": [
    "#Applying ETL into test dataset\n",
    "\n",
    "df1_test = data_merge(df_test_raw, df_features, df_stores)\n",
    "\n",
    "df2_test = data_cleaning(df1_test)\n",
    "\n",
    "df3_test = data_feature_engineering(df2_test)\n",
    "\n",
    "df4_test = data_preparation(df3_test)\n",
    "\n",
    "df_submission = get_prediction(model, df_test_raw, df4_test)"
   ]
  }
 ],
 "metadata": {
  "kernelspec": {
   "display_name": "Python 3 (ipykernel)",
   "language": "python",
   "name": "python3"
  },
  "language_info": {
   "codemirror_mode": {
    "name": "ipython",
    "version": 3
   },
   "file_extension": ".py",
   "mimetype": "text/x-python",
   "name": "python",
   "nbconvert_exporter": "python",
   "pygments_lexer": "ipython3",
   "version": "3.9.2"
  }
 },
 "nbformat": 4,
 "nbformat_minor": 5
}
